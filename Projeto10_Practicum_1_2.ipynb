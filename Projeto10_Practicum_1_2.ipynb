{
 "cells": [
  {
   "cell_type": "markdown",
   "metadata": {},
   "source": [
    "# <CENTER> PROJETO_10"
   ]
  },
  {
   "cell_type": "markdown",
   "metadata": {},
   "source": [
    " <center><strong>DESCRIÇÃO DO PROJETO:</strong>"
   ]
  },
  {
   "cell_type": "markdown",
   "metadata": {},
   "source": [
    "Você trabalha em uma startup que vende produtos alimentícios. Você precisa analisar o comportamento do usuário para o aplicativo da empresa.\n",
    "\n",
    "Primeiro estude o funil de vendas. Descubra como os usuários chegam à etapa de compra.Quantos usuários realmente chegam a essa etapa? Quantos ficam presos nas fases anteriores? Quais etapas em particular?\n",
    "\n",
    "Em seguida, veja os resultados do teste A/A/B. (Continue lendo para obter mais informação sobre os testes A/A/B.) Os designers gostariam de alterar as fontes de todo o aplicativo, mas os gerentes temem que os usuários achem o novo design intimidador. Eles decidem tomar a decisão com base nos resultados de um teste A/A/B.\n",
    "\n",
    "Os usuários são divididos em três grupos: dois grupos de controle recebem as fontes antigas e um grupo de teste recebe as novas. Descubra qual conjunto de fontes produz melhores resultados.\n",
    "\n",
    "A criação de dois grupos A tem certas vantagens. Podemos adaptar um princípio segundo o qual só estaremos confiantes na precisão de nossos testes quando os dois grupos de controle forem semelhantes. Se houver diferenças significativas entre os grupos A, isso pode nos ajudar a descobrir fatores que podem distorcer os resultados. A comparação de grupos de controle também nos informa de quanto tempo e dados precisaremos ao executar outros testes.\n",
    "\n",
    "Você usará o mesmo conjunto de dados para análise geral e análise A/A/B. Em projetos reais, os experimentos se realizam constantemente. Os analistas estudam a qualidade de um aplicativo usando dados gerais, sem prestar atenção na participação dos usuários de experimentos.\n"
   ]
  },
  {
   "cell_type": "markdown",
   "metadata": {},
   "source": [
    "<a id='top'></a>"
   ]
  },
  {
   "cell_type": "markdown",
   "metadata": {
    "toc": true
   },
   "source": [
    "<h1>Sumário:<span class=\"tocSkip\"></span></h1>\n",
    "<div class=\"toc\"><ul class=\"toc-item\"><li><span><a href=\"#BIBLIOTECAS-E-DADOS:\" data-toc-modified-id=\"BIBLIOTECAS-E-DADOS:-1\"><span class=\"toc-item-num\">1&nbsp;&nbsp;</span><center><strong>BIBLIOTECAS E DADOS:</strong></center></a></span><ul class=\"toc-item\"><li><span><a href=\"#Importação-de-bibliotecas:\" data-toc-modified-id=\"Importação-de-bibliotecas:-1.1\"><span class=\"toc-item-num\">1.1&nbsp;&nbsp;</span>Importação de bibliotecas:</a></span></li><li><span><a href=\"#Importação-dos-dados:\" data-toc-modified-id=\"Importação-dos-dados:-1.2\"><span class=\"toc-item-num\">1.2&nbsp;&nbsp;</span>Importação dos dados:</a></span></li><li><span><a href=\"#Descrição-dos-dados:\" data-toc-modified-id=\"Descrição-dos-dados:-1.3\"><span class=\"toc-item-num\">1.3&nbsp;&nbsp;</span>Descrição dos dados:</a></span></li><li><span><a href=\"#Converte-a-coluna-EventTimestamp-de-inteiros-para-formato-de-hora:\" data-toc-modified-id=\"Converte-a-coluna-EventTimestamp-de-inteiros-para-formato-de-hora:-1.4\"><span class=\"toc-item-num\">1.4&nbsp;&nbsp;</span>Converte a coluna EventTimestamp de inteiros para formato de hora:</a></span></li><li><span><a href=\"#Valores-duplicados:\" data-toc-modified-id=\"Valores-duplicados:-1.5\"><span class=\"toc-item-num\">1.5&nbsp;&nbsp;</span>Valores duplicados:</a></span></li><li><span><a href=\"#Valores-faltantes:\" data-toc-modified-id=\"Valores-faltantes:-1.6\"><span class=\"toc-item-num\">1.6&nbsp;&nbsp;</span>Valores faltantes:</a></span></li><li><span><a href=\"#Renomeando-dados-da-coluna-EventName:\" data-toc-modified-id=\"Renomeando-dados-da-coluna-EventName:-1.7\"><span class=\"toc-item-num\">1.7&nbsp;&nbsp;</span>Renomeando dados da coluna EventName:</a></span></li></ul></li><li><span><a href=\"#ANÁLISE-DOS-DADOS:\" data-toc-modified-id=\"ANÁLISE-DOS-DADOS:-2\"><span class=\"toc-item-num\">2&nbsp;&nbsp;</span><center><strong>ANÁLISE DOS DADOS:</strong></center></a></span><ul class=\"toc-item\"><li><span><a href=\"#Quantos-eventos-ficam-nos-diários:\" data-toc-modified-id=\"Quantos-eventos-ficam-nos-diários:-2.1\"><span class=\"toc-item-num\">2.1&nbsp;&nbsp;</span>Quantos eventos ficam nos diários:</a></span></li><li><span><a href=\"#Quantos-usuários-ficam-nos-diários:\" data-toc-modified-id=\"Quantos-usuários-ficam-nos-diários:-2.2\"><span class=\"toc-item-num\">2.2&nbsp;&nbsp;</span>Quantos usuários ficam nos diários:</a></span></li><li><span><a href=\"#Qual-é-o-número-médio-de-eventos-por-usuário:\" data-toc-modified-id=\"Qual-é-o-número-médio-de-eventos-por-usuário:-2.3\"><span class=\"toc-item-num\">2.3&nbsp;&nbsp;</span>Qual é o número médio de eventos por usuário:</a></span></li><li><span><a href=\"#Qual-é-o-período-de-tempo-que-os-dados-cobrem:\" data-toc-modified-id=\"Qual-é-o-período-de-tempo-que-os-dados-cobrem:-2.4\"><span class=\"toc-item-num\">2.4&nbsp;&nbsp;</span>Qual é o período de tempo que os dados cobrem:</a></span><ul class=\"toc-item\"><li><span><a href=\"#Valores-minimos-e-máximos,-datas/horas:\" data-toc-modified-id=\"Valores-minimos-e-máximos,-datas/horas:-2.4.1\"><span class=\"toc-item-num\">2.4.1&nbsp;&nbsp;</span>Valores minimos e máximos, datas/horas:</a></span></li></ul></li><li><span><a href=\"#Certifique-se-de-ter-usuários-de-todos-os-três-grupos-experimentais.\" data-toc-modified-id=\"Certifique-se-de-ter-usuários-de-todos-os-três-grupos-experimentais.-2.5\"><span class=\"toc-item-num\">2.5&nbsp;&nbsp;</span>Certifique-se de ter usuários de todos os três grupos experimentais.</a></span></li></ul></li><li><span><a href=\"#-Estudo-do-funil-de-eventos:\" data-toc-modified-id=\"-Estudo-do-funil-de-eventos:-3\"><span class=\"toc-item-num\">3&nbsp;&nbsp;</span><center><strong> Estudo do funil de eventos:</strong></center></a></span><ul class=\"toc-item\"><li><span><a href=\"#Frequência-das-ações:\" data-toc-modified-id=\"Frequência-das-ações:-3.1\"><span class=\"toc-item-num\">3.1&nbsp;&nbsp;</span>Frequência das ações:</a></span></li><li><span><a href=\"#Quantidade-de-usuários-unívocos-que-acessaram-as-páginas:\" data-toc-modified-id=\"Quantidade-de-usuários-unívocos-que-acessaram-as-páginas:-3.2\"><span class=\"toc-item-num\">3.2&nbsp;&nbsp;</span>Quantidade de usuários unívocos que acessaram as páginas:</a></span></li><li><span><a href=\"#Funil:\" data-toc-modified-id=\"Funil:-3.3\"><span class=\"toc-item-num\">3.3&nbsp;&nbsp;</span>Funil:</a></span></li><li><span><a href=\"#Fase-em-que-se-perde-mais-usuários:\" data-toc-modified-id=\"Fase-em-que-se-perde-mais-usuários:-3.4\"><span class=\"toc-item-num\">3.4&nbsp;&nbsp;</span>Fase em que se perde mais usuários:</a></span></li></ul></li><li><span><a href=\"#-Experimento:\" data-toc-modified-id=\"-Experimento:-4\"><span class=\"toc-item-num\">4&nbsp;&nbsp;</span><center><strong> Experimento:</strong></center></a></span><ul class=\"toc-item\"><li><span><a href=\"#Quantidade-de-usuários-em-cada-grupo:\" data-toc-modified-id=\"Quantidade-de-usuários-em-cada-grupo:-4.1\"><span class=\"toc-item-num\">4.1&nbsp;&nbsp;</span>Quantidade de usuários em cada grupo:</a></span></li><li><span><a href=\"#Diferença-estatisticamente-significativa-entre-as-amostragens-246-e-247:\" data-toc-modified-id=\"Diferença-estatisticamente-significativa-entre-as-amostragens-246-e-247:-4.2\"><span class=\"toc-item-num\">4.2&nbsp;&nbsp;</span>Diferença estatisticamente significativa entre as amostragens 246 e 247:</a></span><ul class=\"toc-item\"><li><span><a href=\"#Usuários-que-chegam-a-tela-de-pagamento:\" data-toc-modified-id=\"Usuários-que-chegam-a-tela-de-pagamento:-4.2.1\"><span class=\"toc-item-num\">4.2.1&nbsp;&nbsp;</span>Usuários que chegam a tela de pagamento:</a></span></li><li><span><a href=\"#Usuários-que-chegam-a-tela-de-carrinho:\" data-toc-modified-id=\"Usuários-que-chegam-a-tela-de-carrinho:-4.2.2\"><span class=\"toc-item-num\">4.2.2&nbsp;&nbsp;</span>Usuários que chegam a tela de carrinho:</a></span></li><li><span><a href=\"#Usuários-que-chegam-a-tela-de-Tela-de-Ofertas:\" data-toc-modified-id=\"Usuários-que-chegam-a-tela-de-Tela-de-Ofertas:-4.2.3\"><span class=\"toc-item-num\">4.2.3&nbsp;&nbsp;</span>Usuários que chegam a tela de Tela de Ofertas:</a></span></li><li><span><a href=\"#Usuários-que-chegam-a-Tela-Principal:\" data-toc-modified-id=\"Usuários-que-chegam-a-Tela-Principal:-4.2.4\"><span class=\"toc-item-num\">4.2.4&nbsp;&nbsp;</span>Usuários que chegam a Tela Principal:</a></span></li></ul></li><li><span><a href=\"#Amostra-com-fontes-alteradas:\" data-toc-modified-id=\"Amostra-com-fontes-alteradas:-4.3\"><span class=\"toc-item-num\">4.3&nbsp;&nbsp;</span>Amostra com fontes alteradas:</a></span></li><li><span><a href=\"#Qual-nível-de-significância-você-definiu-para-testar-as-hipóteses-estatísticas-mencionadas-acima?\" data-toc-modified-id=\"Qual-nível-de-significância-você-definiu-para-testar-as-hipóteses-estatísticas-mencionadas-acima?-4.4\"><span class=\"toc-item-num\">4.4&nbsp;&nbsp;</span>Qual nível de significância você definiu para testar as hipóteses estatísticas mencionadas acima?</a></span></li></ul></li><li><span><a href=\"#-Conclusão:\" data-toc-modified-id=\"-Conclusão:-5\"><span class=\"toc-item-num\">5&nbsp;&nbsp;</span><center><strong> Conclusão:</strong></center></a></span></li></ul></div>"
   ]
  },
  {
   "cell_type": "markdown",
   "metadata": {},
   "source": [
    "## <center><strong>BIBLIOTECAS E DADOS:</strong>"
   ]
  },
  {
   "cell_type": "code",
   "execution_count": 1,
   "metadata": {},
   "outputs": [
    {
     "name": "stdout",
     "output_type": "stream",
     "text": [
      "Requirement already satisfied: kaleido in /opt/conda/lib/python3.9/site-packages (0.2.1)\r\n"
     ]
    }
   ],
   "source": [
    "!pip install -U kaleido # instala biblioteca necessária p/ salvar imagem"
   ]
  },
  {
   "cell_type": "markdown",
   "metadata": {},
   "source": [
    "### Importação de bibliotecas:"
   ]
  },
  {
   "cell_type": "code",
   "execution_count": 2,
   "metadata": {},
   "outputs": [],
   "source": [
    "import pandas as pd\n",
    "import numpy as np\n",
    "import warnings\n",
    "warnings.filterwarnings('ignore')\n",
    "import matplotlib.pyplot as plt\n",
    "import seaborn as sns\n",
    "import plotly.express as px\n",
    "import datetime as dt\n",
    "from scipy import stats as st\n",
    "import math as mth\n",
    "import re\n",
    "import plotly.graph_objects as go\n",
    "from datetime import datetime\n",
    "\n",
    "import plotly.io as pio\n",
    "from IPython.display import Image"
   ]
  },
  {
   "cell_type": "markdown",
   "metadata": {},
   "source": [
    "### Importação dos dados:"
   ]
  },
  {
   "cell_type": "code",
   "execution_count": 3,
   "metadata": {},
   "outputs": [],
   "source": [
    "logs = pd.read_csv('/datasets/logs_exp_us.csv', sep='\\t')"
   ]
  },
  {
   "cell_type": "markdown",
   "metadata": {},
   "source": [
    "### Descrição dos dados:"
   ]
  },
  {
   "cell_type": "code",
   "execution_count": 4,
   "metadata": {},
   "outputs": [
    {
     "data": {
      "text/html": [
       "<div>\n",
       "<style scoped>\n",
       "    .dataframe tbody tr th:only-of-type {\n",
       "        vertical-align: middle;\n",
       "    }\n",
       "\n",
       "    .dataframe tbody tr th {\n",
       "        vertical-align: top;\n",
       "    }\n",
       "\n",
       "    .dataframe thead th {\n",
       "        text-align: right;\n",
       "    }\n",
       "</style>\n",
       "<table border=\"1\" class=\"dataframe\">\n",
       "  <thead>\n",
       "    <tr style=\"text-align: right;\">\n",
       "      <th></th>\n",
       "      <th>EventName</th>\n",
       "      <th>DeviceIDHash</th>\n",
       "      <th>EventTimestamp</th>\n",
       "      <th>ExpId</th>\n",
       "    </tr>\n",
       "  </thead>\n",
       "  <tbody>\n",
       "    <tr>\n",
       "      <th>0</th>\n",
       "      <td>MainScreenAppear</td>\n",
       "      <td>4575588528974610257</td>\n",
       "      <td>1564029816</td>\n",
       "      <td>246</td>\n",
       "    </tr>\n",
       "    <tr>\n",
       "      <th>1</th>\n",
       "      <td>MainScreenAppear</td>\n",
       "      <td>7416695313311560658</td>\n",
       "      <td>1564053102</td>\n",
       "      <td>246</td>\n",
       "    </tr>\n",
       "    <tr>\n",
       "      <th>2</th>\n",
       "      <td>PaymentScreenSuccessful</td>\n",
       "      <td>3518123091307005509</td>\n",
       "      <td>1564054127</td>\n",
       "      <td>248</td>\n",
       "    </tr>\n",
       "    <tr>\n",
       "      <th>3</th>\n",
       "      <td>CartScreenAppear</td>\n",
       "      <td>3518123091307005509</td>\n",
       "      <td>1564054127</td>\n",
       "      <td>248</td>\n",
       "    </tr>\n",
       "    <tr>\n",
       "      <th>4</th>\n",
       "      <td>PaymentScreenSuccessful</td>\n",
       "      <td>6217807653094995999</td>\n",
       "      <td>1564055322</td>\n",
       "      <td>248</td>\n",
       "    </tr>\n",
       "  </tbody>\n",
       "</table>\n",
       "</div>"
      ],
      "text/plain": [
       "                 EventName         DeviceIDHash  EventTimestamp  ExpId\n",
       "0         MainScreenAppear  4575588528974610257      1564029816    246\n",
       "1         MainScreenAppear  7416695313311560658      1564053102    246\n",
       "2  PaymentScreenSuccessful  3518123091307005509      1564054127    248\n",
       "3         CartScreenAppear  3518123091307005509      1564054127    248\n",
       "4  PaymentScreenSuccessful  6217807653094995999      1564055322    248"
      ]
     },
     "metadata": {},
     "output_type": "display_data"
    }
   ],
   "source": [
    "display(logs.head(5))"
   ]
  },
  {
   "cell_type": "markdown",
   "metadata": {},
   "source": [
    "Cada entrada de diário é uma ação do usuário ou um evento:\n",
    "\n",
    "\n",
    "* <strong>EventName</strong> — nome do evento.\n",
    "* <strong>DeviceIDHash</strong> — identificador de usuário exclusivo.\n",
    "* <strong>EventTimestamp</strong> — hora do evento.\n",
    "* <strong>ExpId</strong> — número do experimento: 246 e 247 são os grupos de controle, 248 é o grupo de teste.\n"
   ]
  },
  {
   "cell_type": "markdown",
   "metadata": {},
   "source": [
    "### Converte a coluna EventTimestamp de inteiros para formato de hora:"
   ]
  },
  {
   "cell_type": "code",
   "execution_count": 5,
   "metadata": {},
   "outputs": [],
   "source": [
    "logs['EventTimestamp'] = logs['EventTimestamp'].apply(lambda x: datetime.fromtimestamp(x))\n"
   ]
  },
  {
   "cell_type": "code",
   "execution_count": 6,
   "metadata": {},
   "outputs": [
    {
     "data": {
      "text/html": [
       "<div>\n",
       "<style scoped>\n",
       "    .dataframe tbody tr th:only-of-type {\n",
       "        vertical-align: middle;\n",
       "    }\n",
       "\n",
       "    .dataframe tbody tr th {\n",
       "        vertical-align: top;\n",
       "    }\n",
       "\n",
       "    .dataframe thead th {\n",
       "        text-align: right;\n",
       "    }\n",
       "</style>\n",
       "<table border=\"1\" class=\"dataframe\">\n",
       "  <thead>\n",
       "    <tr style=\"text-align: right;\">\n",
       "      <th></th>\n",
       "      <th>EventName</th>\n",
       "      <th>DeviceIDHash</th>\n",
       "      <th>EventTimestamp</th>\n",
       "      <th>ExpId</th>\n",
       "    </tr>\n",
       "  </thead>\n",
       "  <tbody>\n",
       "    <tr>\n",
       "      <th>0</th>\n",
       "      <td>MainScreenAppear</td>\n",
       "      <td>4575588528974610257</td>\n",
       "      <td>2019-07-25 04:43:36</td>\n",
       "      <td>246</td>\n",
       "    </tr>\n",
       "    <tr>\n",
       "      <th>1</th>\n",
       "      <td>MainScreenAppear</td>\n",
       "      <td>7416695313311560658</td>\n",
       "      <td>2019-07-25 11:11:42</td>\n",
       "      <td>246</td>\n",
       "    </tr>\n",
       "    <tr>\n",
       "      <th>2</th>\n",
       "      <td>PaymentScreenSuccessful</td>\n",
       "      <td>3518123091307005509</td>\n",
       "      <td>2019-07-25 11:28:47</td>\n",
       "      <td>248</td>\n",
       "    </tr>\n",
       "    <tr>\n",
       "      <th>3</th>\n",
       "      <td>CartScreenAppear</td>\n",
       "      <td>3518123091307005509</td>\n",
       "      <td>2019-07-25 11:28:47</td>\n",
       "      <td>248</td>\n",
       "    </tr>\n",
       "    <tr>\n",
       "      <th>4</th>\n",
       "      <td>PaymentScreenSuccessful</td>\n",
       "      <td>6217807653094995999</td>\n",
       "      <td>2019-07-25 11:48:42</td>\n",
       "      <td>248</td>\n",
       "    </tr>\n",
       "  </tbody>\n",
       "</table>\n",
       "</div>"
      ],
      "text/plain": [
       "                 EventName         DeviceIDHash      EventTimestamp  ExpId\n",
       "0         MainScreenAppear  4575588528974610257 2019-07-25 04:43:36    246\n",
       "1         MainScreenAppear  7416695313311560658 2019-07-25 11:11:42    246\n",
       "2  PaymentScreenSuccessful  3518123091307005509 2019-07-25 11:28:47    248\n",
       "3         CartScreenAppear  3518123091307005509 2019-07-25 11:28:47    248\n",
       "4  PaymentScreenSuccessful  6217807653094995999 2019-07-25 11:48:42    248"
      ]
     },
     "metadata": {},
     "output_type": "display_data"
    }
   ],
   "source": [
    "display(logs.head(5))"
   ]
  },
  {
   "cell_type": "code",
   "execution_count": 7,
   "metadata": {},
   "outputs": [],
   "source": [
    "logs['EventTimestamp'] = pd.to_datetime(logs['EventTimestamp'])\n",
    "logs['Data'] = logs['EventTimestamp'].dt.date\n",
    "logs['Time'] = logs['EventTimestamp'].dt.time\n",
    "\n"
   ]
  },
  {
   "cell_type": "code",
   "execution_count": 8,
   "metadata": {},
   "outputs": [
    {
     "name": "stdout",
     "output_type": "stream",
     "text": [
      "<class 'pandas.core.frame.DataFrame'>\n",
      "RangeIndex: 244126 entries, 0 to 244125\n",
      "Data columns (total 6 columns):\n",
      " #   Column          Non-Null Count   Dtype         \n",
      "---  ------          --------------   -----         \n",
      " 0   EventName       244126 non-null  object        \n",
      " 1   DeviceIDHash    244126 non-null  int64         \n",
      " 2   EventTimestamp  244126 non-null  datetime64[ns]\n",
      " 3   ExpId           244126 non-null  int64         \n",
      " 4   Data            244126 non-null  object        \n",
      " 5   Time            244126 non-null  object        \n",
      "dtypes: datetime64[ns](1), int64(2), object(3)\n",
      "memory usage: 11.2+ MB\n"
     ]
    }
   ],
   "source": [
    "logs.info()"
   ]
  },
  {
   "cell_type": "markdown",
   "metadata": {},
   "source": [
    "### Valores duplicados:"
   ]
  },
  {
   "cell_type": "code",
   "execution_count": 9,
   "metadata": {},
   "outputs": [
    {
     "name": "stdout",
     "output_type": "stream",
     "text": [
      "Valores dupliacos:413.\n"
     ]
    }
   ],
   "source": [
    "print('Valores dupliacos:{}.'.format(logs.duplicated().sum()))"
   ]
  },
  {
   "cell_type": "code",
   "execution_count": 10,
   "metadata": {},
   "outputs": [
    {
     "name": "stdout",
     "output_type": "stream",
     "text": [
      "Valores dupliacos:0.17%.\n"
     ]
    }
   ],
   "source": [
    "print('Valores dupliacos:{:.2%}.'.format(logs.duplicated().mean()))"
   ]
  },
  {
   "cell_type": "code",
   "execution_count": 11,
   "metadata": {},
   "outputs": [
    {
     "data": {
      "text/html": [
       "<div>\n",
       "<style scoped>\n",
       "    .dataframe tbody tr th:only-of-type {\n",
       "        vertical-align: middle;\n",
       "    }\n",
       "\n",
       "    .dataframe tbody tr th {\n",
       "        vertical-align: top;\n",
       "    }\n",
       "\n",
       "    .dataframe thead th {\n",
       "        text-align: right;\n",
       "    }\n",
       "</style>\n",
       "<table border=\"1\" class=\"dataframe\">\n",
       "  <thead>\n",
       "    <tr style=\"text-align: right;\">\n",
       "      <th></th>\n",
       "      <th>EventName</th>\n",
       "      <th>DeviceIDHash</th>\n",
       "      <th>EventTimestamp</th>\n",
       "      <th>ExpId</th>\n",
       "      <th>Data</th>\n",
       "      <th>Time</th>\n",
       "    </tr>\n",
       "  </thead>\n",
       "  <tbody>\n",
       "    <tr>\n",
       "      <th>453</th>\n",
       "      <td>MainScreenAppear</td>\n",
       "      <td>5613408041324010552</td>\n",
       "      <td>2019-07-30 08:19:44</td>\n",
       "      <td>248</td>\n",
       "      <td>2019-07-30</td>\n",
       "      <td>08:19:44</td>\n",
       "    </tr>\n",
       "    <tr>\n",
       "      <th>2350</th>\n",
       "      <td>CartScreenAppear</td>\n",
       "      <td>1694940645335807244</td>\n",
       "      <td>2019-07-31 21:51:39</td>\n",
       "      <td>248</td>\n",
       "      <td>2019-07-31</td>\n",
       "      <td>21:51:39</td>\n",
       "    </tr>\n",
       "    <tr>\n",
       "      <th>3573</th>\n",
       "      <td>MainScreenAppear</td>\n",
       "      <td>434103746454591587</td>\n",
       "      <td>2019-08-01 02:59:37</td>\n",
       "      <td>248</td>\n",
       "      <td>2019-08-01</td>\n",
       "      <td>02:59:37</td>\n",
       "    </tr>\n",
       "    <tr>\n",
       "      <th>4076</th>\n",
       "      <td>MainScreenAppear</td>\n",
       "      <td>3761373764179762633</td>\n",
       "      <td>2019-08-01 03:47:46</td>\n",
       "      <td>247</td>\n",
       "      <td>2019-08-01</td>\n",
       "      <td>03:47:46</td>\n",
       "    </tr>\n",
       "    <tr>\n",
       "      <th>4803</th>\n",
       "      <td>MainScreenAppear</td>\n",
       "      <td>2835328739789306622</td>\n",
       "      <td>2019-08-01 04:44:01</td>\n",
       "      <td>248</td>\n",
       "      <td>2019-08-01</td>\n",
       "      <td>04:44:01</td>\n",
       "    </tr>\n",
       "    <tr>\n",
       "      <th>...</th>\n",
       "      <td>...</td>\n",
       "      <td>...</td>\n",
       "      <td>...</td>\n",
       "      <td>...</td>\n",
       "      <td>...</td>\n",
       "      <td>...</td>\n",
       "    </tr>\n",
       "    <tr>\n",
       "      <th>242329</th>\n",
       "      <td>MainScreenAppear</td>\n",
       "      <td>8870358373313968633</td>\n",
       "      <td>2019-08-07 19:26:44</td>\n",
       "      <td>247</td>\n",
       "      <td>2019-08-07</td>\n",
       "      <td>19:26:44</td>\n",
       "    </tr>\n",
       "    <tr>\n",
       "      <th>242332</th>\n",
       "      <td>PaymentScreenSuccessful</td>\n",
       "      <td>4718002964983105693</td>\n",
       "      <td>2019-08-07 19:26:45</td>\n",
       "      <td>247</td>\n",
       "      <td>2019-08-07</td>\n",
       "      <td>19:26:45</td>\n",
       "    </tr>\n",
       "    <tr>\n",
       "      <th>242360</th>\n",
       "      <td>PaymentScreenSuccessful</td>\n",
       "      <td>2382591782303281935</td>\n",
       "      <td>2019-08-07 19:27:29</td>\n",
       "      <td>246</td>\n",
       "      <td>2019-08-07</td>\n",
       "      <td>19:27:29</td>\n",
       "    </tr>\n",
       "    <tr>\n",
       "      <th>242362</th>\n",
       "      <td>CartScreenAppear</td>\n",
       "      <td>2382591782303281935</td>\n",
       "      <td>2019-08-07 19:27:29</td>\n",
       "      <td>246</td>\n",
       "      <td>2019-08-07</td>\n",
       "      <td>19:27:29</td>\n",
       "    </tr>\n",
       "    <tr>\n",
       "      <th>242635</th>\n",
       "      <td>MainScreenAppear</td>\n",
       "      <td>4097782667445790512</td>\n",
       "      <td>2019-08-07 19:36:58</td>\n",
       "      <td>246</td>\n",
       "      <td>2019-08-07</td>\n",
       "      <td>19:36:58</td>\n",
       "    </tr>\n",
       "  </tbody>\n",
       "</table>\n",
       "<p>413 rows × 6 columns</p>\n",
       "</div>"
      ],
      "text/plain": [
       "                      EventName         DeviceIDHash      EventTimestamp  \\\n",
       "453            MainScreenAppear  5613408041324010552 2019-07-30 08:19:44   \n",
       "2350           CartScreenAppear  1694940645335807244 2019-07-31 21:51:39   \n",
       "3573           MainScreenAppear   434103746454591587 2019-08-01 02:59:37   \n",
       "4076           MainScreenAppear  3761373764179762633 2019-08-01 03:47:46   \n",
       "4803           MainScreenAppear  2835328739789306622 2019-08-01 04:44:01   \n",
       "...                         ...                  ...                 ...   \n",
       "242329         MainScreenAppear  8870358373313968633 2019-08-07 19:26:44   \n",
       "242332  PaymentScreenSuccessful  4718002964983105693 2019-08-07 19:26:45   \n",
       "242360  PaymentScreenSuccessful  2382591782303281935 2019-08-07 19:27:29   \n",
       "242362         CartScreenAppear  2382591782303281935 2019-08-07 19:27:29   \n",
       "242635         MainScreenAppear  4097782667445790512 2019-08-07 19:36:58   \n",
       "\n",
       "        ExpId        Data      Time  \n",
       "453       248  2019-07-30  08:19:44  \n",
       "2350      248  2019-07-31  21:51:39  \n",
       "3573      248  2019-08-01  02:59:37  \n",
       "4076      247  2019-08-01  03:47:46  \n",
       "4803      248  2019-08-01  04:44:01  \n",
       "...       ...         ...       ...  \n",
       "242329    247  2019-08-07  19:26:44  \n",
       "242332    247  2019-08-07  19:26:45  \n",
       "242360    246  2019-08-07  19:27:29  \n",
       "242362    246  2019-08-07  19:27:29  \n",
       "242635    246  2019-08-07  19:36:58  \n",
       "\n",
       "[413 rows x 6 columns]"
      ]
     },
     "metadata": {},
     "output_type": "display_data"
    }
   ],
   "source": [
    "display(logs[logs.duplicated()])"
   ]
  },
  {
   "cell_type": "markdown",
   "metadata": {},
   "source": [
    "Vamos remover as linhas duplicadas."
   ]
  },
  {
   "cell_type": "code",
   "execution_count": 12,
   "metadata": {},
   "outputs": [],
   "source": [
    "logs = logs.drop_duplicates()"
   ]
  },
  {
   "cell_type": "code",
   "execution_count": 13,
   "metadata": {},
   "outputs": [
    {
     "data": {
      "text/plain": [
       "0"
      ]
     },
     "execution_count": 13,
     "metadata": {},
     "output_type": "execute_result"
    }
   ],
   "source": [
    "logs.duplicated().sum()"
   ]
  },
  {
   "cell_type": "markdown",
   "metadata": {},
   "source": [
    "### Valores faltantes:"
   ]
  },
  {
   "cell_type": "code",
   "execution_count": 14,
   "metadata": {},
   "outputs": [
    {
     "data": {
      "text/plain": [
       "EventName         0\n",
       "DeviceIDHash      0\n",
       "EventTimestamp    0\n",
       "ExpId             0\n",
       "Data              0\n",
       "Time              0\n",
       "dtype: int64"
      ]
     },
     "execution_count": 14,
     "metadata": {},
     "output_type": "execute_result"
    }
   ],
   "source": [
    "logs.isna().sum()"
   ]
  },
  {
   "cell_type": "markdown",
   "metadata": {},
   "source": [
    "### Renomeando dados da coluna EventName:"
   ]
  },
  {
   "cell_type": "markdown",
   "metadata": {},
   "source": [
    "Vamos renomear os dados da coluna EventName e enumerar a ordem em que as ações ocorrem:"
   ]
  },
  {
   "cell_type": "markdown",
   "metadata": {},
   "source": [
    "<strong>Ordem da ação / EventName / Alteração:</strong>\n",
    "\n",
    "* 1ª ação - MainScreenAppear - Tela Principal \n",
    "* 2ª ação - Tutorial - Tutorial\n",
    "* 3ª ação - OffersScreenAppear - Tela da oferta\n",
    "* 4ª ação - CartScreenAppear - Tela do carrinho\n",
    "* 5ª ação - PaymentScreenSuccessful - Tela de pagamento\n"
   ]
  },
  {
   "cell_type": "code",
   "execution_count": 15,
   "metadata": {},
   "outputs": [],
   "source": [
    "def event (dados):\n",
    "    if 'MainScreenAppear'  in dados:\n",
    "        return 'Tela Principal'\n",
    "    if 'PaymentScreenSuccessful' in dados:\n",
    "        return 'Tela de Pagamento'\n",
    "    if 'CartScreenAppear' in dados:\n",
    "        return 'Tela Carrinho'\n",
    "    if 'OffersScreenAppear' in dados:\n",
    "        return 'Tela de Ofertas'\n",
    "    if 'Tutorial' in dados:\n",
    "        return 'Tutorial'"
   ]
  },
  {
   "cell_type": "code",
   "execution_count": 16,
   "metadata": {},
   "outputs": [
    {
     "data": {
      "text/html": [
       "<div>\n",
       "<style scoped>\n",
       "    .dataframe tbody tr th:only-of-type {\n",
       "        vertical-align: middle;\n",
       "    }\n",
       "\n",
       "    .dataframe tbody tr th {\n",
       "        vertical-align: top;\n",
       "    }\n",
       "\n",
       "    .dataframe thead th {\n",
       "        text-align: right;\n",
       "    }\n",
       "</style>\n",
       "<table border=\"1\" class=\"dataframe\">\n",
       "  <thead>\n",
       "    <tr style=\"text-align: right;\">\n",
       "      <th></th>\n",
       "      <th>EventName</th>\n",
       "      <th>DeviceIDHash</th>\n",
       "      <th>EventTimestamp</th>\n",
       "      <th>ExpId</th>\n",
       "      <th>Data</th>\n",
       "      <th>Time</th>\n",
       "    </tr>\n",
       "  </thead>\n",
       "  <tbody>\n",
       "    <tr>\n",
       "      <th>0</th>\n",
       "      <td>Tela Principal</td>\n",
       "      <td>4575588528974610257</td>\n",
       "      <td>2019-07-25 04:43:36</td>\n",
       "      <td>246</td>\n",
       "      <td>2019-07-25</td>\n",
       "      <td>04:43:36</td>\n",
       "    </tr>\n",
       "    <tr>\n",
       "      <th>1</th>\n",
       "      <td>Tela Principal</td>\n",
       "      <td>7416695313311560658</td>\n",
       "      <td>2019-07-25 11:11:42</td>\n",
       "      <td>246</td>\n",
       "      <td>2019-07-25</td>\n",
       "      <td>11:11:42</td>\n",
       "    </tr>\n",
       "    <tr>\n",
       "      <th>2</th>\n",
       "      <td>Tela de Pagamento</td>\n",
       "      <td>3518123091307005509</td>\n",
       "      <td>2019-07-25 11:28:47</td>\n",
       "      <td>248</td>\n",
       "      <td>2019-07-25</td>\n",
       "      <td>11:28:47</td>\n",
       "    </tr>\n",
       "    <tr>\n",
       "      <th>3</th>\n",
       "      <td>Tela Carrinho</td>\n",
       "      <td>3518123091307005509</td>\n",
       "      <td>2019-07-25 11:28:47</td>\n",
       "      <td>248</td>\n",
       "      <td>2019-07-25</td>\n",
       "      <td>11:28:47</td>\n",
       "    </tr>\n",
       "    <tr>\n",
       "      <th>4</th>\n",
       "      <td>Tela de Pagamento</td>\n",
       "      <td>6217807653094995999</td>\n",
       "      <td>2019-07-25 11:48:42</td>\n",
       "      <td>248</td>\n",
       "      <td>2019-07-25</td>\n",
       "      <td>11:48:42</td>\n",
       "    </tr>\n",
       "  </tbody>\n",
       "</table>\n",
       "</div>"
      ],
      "text/plain": [
       "           EventName         DeviceIDHash      EventTimestamp  ExpId  \\\n",
       "0     Tela Principal  4575588528974610257 2019-07-25 04:43:36    246   \n",
       "1     Tela Principal  7416695313311560658 2019-07-25 11:11:42    246   \n",
       "2  Tela de Pagamento  3518123091307005509 2019-07-25 11:28:47    248   \n",
       "3      Tela Carrinho  3518123091307005509 2019-07-25 11:28:47    248   \n",
       "4  Tela de Pagamento  6217807653094995999 2019-07-25 11:48:42    248   \n",
       "\n",
       "         Data      Time  \n",
       "0  2019-07-25  04:43:36  \n",
       "1  2019-07-25  11:11:42  \n",
       "2  2019-07-25  11:28:47  \n",
       "3  2019-07-25  11:28:47  \n",
       "4  2019-07-25  11:48:42  "
      ]
     },
     "metadata": {},
     "output_type": "display_data"
    }
   ],
   "source": [
    "logs['EventName'] = logs['EventName'].apply(event)\n",
    "display(logs.head(5))"
   ]
  },
  {
   "cell_type": "code",
   "execution_count": 17,
   "metadata": {},
   "outputs": [
    {
     "name": "stdout",
     "output_type": "stream",
     "text": [
      "<class 'pandas.core.frame.DataFrame'>\n",
      "Int64Index: 243713 entries, 0 to 244125\n",
      "Data columns (total 6 columns):\n",
      " #   Column          Non-Null Count   Dtype         \n",
      "---  ------          --------------   -----         \n",
      " 0   EventName       243713 non-null  object        \n",
      " 1   DeviceIDHash    243713 non-null  int64         \n",
      " 2   EventTimestamp  243713 non-null  datetime64[ns]\n",
      " 3   ExpId           243713 non-null  int64         \n",
      " 4   Data            243713 non-null  object        \n",
      " 5   Time            243713 non-null  object        \n",
      "dtypes: datetime64[ns](1), int64(2), object(3)\n",
      "memory usage: 13.0+ MB\n"
     ]
    }
   ],
   "source": [
    "logs.info()"
   ]
  },
  {
   "cell_type": "markdown",
   "metadata": {},
   "source": [
    "[Voltar ao topo da página](#top)"
   ]
  },
  {
   "cell_type": "code",
   "execution_count": 18,
   "metadata": {},
   "outputs": [],
   "source": [
    "logs['Data'] = pd.to_datetime(logs['Data'])"
   ]
  },
  {
   "cell_type": "markdown",
   "metadata": {},
   "source": [
    "## <center><strong>ANÁLISE DOS DADOS:</strong>"
   ]
  },
  {
   "cell_type": "markdown",
   "metadata": {},
   "source": [
    "### Quantos eventos ficam nos diários:"
   ]
  },
  {
   "cell_type": "code",
   "execution_count": 19,
   "metadata": {},
   "outputs": [
    {
     "data": {
      "text/plain": [
       "array(['Tela Principal', 'Tela de Pagamento', 'Tela Carrinho',\n",
       "       'Tela de Ofertas', 'Tutorial'], dtype=object)"
      ]
     },
     "execution_count": 19,
     "metadata": {},
     "output_type": "execute_result"
    }
   ],
   "source": [
    "logs['EventName'].unique()"
   ]
  },
  {
   "cell_type": "markdown",
   "metadata": {},
   "source": [
    "Ficam listados nos diários 5 eventos. "
   ]
  },
  {
   "cell_type": "markdown",
   "metadata": {},
   "source": [
    "### Quantos usuários ficam nos diários:"
   ]
  },
  {
   "cell_type": "code",
   "execution_count": 20,
   "metadata": {},
   "outputs": [],
   "source": [
    "logs_unique = logs['DeviceIDHash'].unique()"
   ]
  },
  {
   "cell_type": "code",
   "execution_count": 21,
   "metadata": {},
   "outputs": [
    {
     "data": {
      "text/plain": [
       "6304868067479728361    2307\n",
       "197027893265565660     1998\n",
       "4623191541214045580    1768\n",
       "6932517045703054087    1439\n",
       "1754140665440434215    1221\n",
       "                       ... \n",
       "395376432319166724        1\n",
       "404128138074395619        1\n",
       "6936517579657223951       1\n",
       "5138854326043201424       1\n",
       "3954096321632083010       1\n",
       "Name: DeviceIDHash, Length: 7551, dtype: int64"
      ]
     },
     "execution_count": 21,
     "metadata": {},
     "output_type": "execute_result"
    }
   ],
   "source": [
    "logs['DeviceIDHash'].value_counts()"
   ]
  },
  {
   "cell_type": "markdown",
   "metadata": {},
   "source": [
    "Ficam 7.551 usuários registrados nos diários."
   ]
  },
  {
   "cell_type": "markdown",
   "metadata": {},
   "source": [
    "### Qual é o número médio de eventos por usuário:"
   ]
  },
  {
   "cell_type": "code",
   "execution_count": 22,
   "metadata": {},
   "outputs": [
    {
     "data": {
      "text/html": [
       "<div>\n",
       "<style scoped>\n",
       "    .dataframe tbody tr th:only-of-type {\n",
       "        vertical-align: middle;\n",
       "    }\n",
       "\n",
       "    .dataframe tbody tr th {\n",
       "        vertical-align: top;\n",
       "    }\n",
       "\n",
       "    .dataframe thead th {\n",
       "        text-align: right;\n",
       "    }\n",
       "</style>\n",
       "<table border=\"1\" class=\"dataframe\">\n",
       "  <thead>\n",
       "    <tr style=\"text-align: right;\">\n",
       "      <th></th>\n",
       "      <th>DeviceIDHash</th>\n",
       "      <th>EventName</th>\n",
       "    </tr>\n",
       "  </thead>\n",
       "  <tbody>\n",
       "    <tr>\n",
       "      <th>0</th>\n",
       "      <td>6888746892508752</td>\n",
       "      <td>1</td>\n",
       "    </tr>\n",
       "    <tr>\n",
       "      <th>1</th>\n",
       "      <td>6909561520679493</td>\n",
       "      <td>5</td>\n",
       "    </tr>\n",
       "    <tr>\n",
       "      <th>2</th>\n",
       "      <td>6922444491712477</td>\n",
       "      <td>47</td>\n",
       "    </tr>\n",
       "    <tr>\n",
       "      <th>3</th>\n",
       "      <td>7435777799948366</td>\n",
       "      <td>6</td>\n",
       "    </tr>\n",
       "    <tr>\n",
       "      <th>4</th>\n",
       "      <td>7702139951469979</td>\n",
       "      <td>137</td>\n",
       "    </tr>\n",
       "  </tbody>\n",
       "</table>\n",
       "</div>"
      ],
      "text/plain": [
       "       DeviceIDHash  EventName\n",
       "0  6888746892508752          1\n",
       "1  6909561520679493          5\n",
       "2  6922444491712477         47\n",
       "3  7435777799948366          6\n",
       "4  7702139951469979        137"
      ]
     },
     "metadata": {},
     "output_type": "display_data"
    }
   ],
   "source": [
    "logs_media_eventos = logs.groupby('DeviceIDHash').agg({'EventName':'count'}).reset_index()\n",
    "display(logs_media_eventos.head(5))"
   ]
  },
  {
   "cell_type": "code",
   "execution_count": 23,
   "metadata": {},
   "outputs": [
    {
     "name": "stdout",
     "output_type": "stream",
     "text": [
      "A média de eventos por usuários é de 32.28 com todos os dados, sem retirarmos os outliers.\n"
     ]
    }
   ],
   "source": [
    "print('A média de eventos por usuários é de {:.4} com todos os dados, sem retirarmos os outliers.'.format(logs_media_eventos['EventName'].mean()))"
   ]
  },
  {
   "cell_type": "code",
   "execution_count": 24,
   "metadata": {},
   "outputs": [
    {
     "data": {
      "image/png": "[encoded data removed]",
      "text/plain": [
       "<IPython.core.display.Image object>"
      ]
     },
     "execution_count": 24,
     "metadata": {},
     "output_type": "execute_result"
    }
   ],
   "source": [
    "\n",
    "fig = px.box(logs_media_eventos, x='EventName', color_discrete_sequence=px.colors.qualitative.Pastel1,\n",
    "             template='plotly_white', \n",
    "             height=300, width=500)\n",
    "\n",
    "fig.update_layout(\n",
    "    xaxis_title = 'Quantidade de eventos por usuários',\n",
    "    title={\n",
    "    'text' : 'Outliers:',\n",
    "    'y': 0.98,\n",
    "    'x': 0.5\n",
    "})\n",
    "\n",
    "# Convert the Plotly graph to a static image\n",
    "image_bytes = pio.to_image(fig, format='png')\n",
    "\n",
    "# Display the static image in the notebook\n",
    "from IPython.display import Image\n",
    "Image(image_bytes)"
   ]
  },
  {
   "cell_type": "code",
   "execution_count": 25,
   "metadata": {},
   "outputs": [
    {
     "data": {
      "image/png": "[encoded data removed]",
      "text/plain": [
       "<IPython.core.display.Image object>"
      ]
     },
     "execution_count": 25,
     "metadata": {},
     "output_type": "execute_result"
    }
   ],
   "source": [
    "fig = px.histogram(logs_media_eventos, x='EventName',\n",
    "             color_discrete_sequence=px.colors.qualitative.Pastel1,\n",
    "             template='plotly_white', \n",
    "             height=300, width=500)\n",
    "\n",
    "fig.update_layout(\n",
    "    yaxis_title='Quantidade de usuários',\n",
    "    xaxis_title = 'Quantidade de eventos',\n",
    "    title={\n",
    "    'text' : 'Outliers',\n",
    "    'y': 0.9,\n",
    "    'x': 0.5\n",
    "        })\n",
    "\n",
    "# Convert the Plotly graph to a static image\n",
    "image_bytes = pio.to_image(fig, format='png')\n",
    "\n",
    "# Display the static image in the notebook\n",
    "from IPython.display import Image\n",
    "Image(image_bytes)"
   ]
  },
  {
   "cell_type": "code",
   "execution_count": 26,
   "metadata": {},
   "outputs": [
    {
     "name": "stdout",
     "output_type": "stream",
     "text": [
      "[ 64.   89.  200.5]\n"
     ]
    }
   ],
   "source": [
    "print(np.percentile(logs_media_eventos['EventName'], [90, 95, 99])) "
   ]
  },
  {
   "cell_type": "markdown",
   "metadata": {},
   "source": [
    "90% dos usuários tem até 64 interações no site."
   ]
  },
  {
   "cell_type": "code",
   "execution_count": 27,
   "metadata": {},
   "outputs": [
    {
     "name": "stdout",
     "output_type": "stream",
     "text": [
      "A média de eventos por usuários cai para 21.22 quando retiramos os outiliers.\n"
     ]
    }
   ],
   "source": [
    "logs_media_eventos2 = logs_media_eventos[logs_media_eventos.EventName <= 64]\n",
    "print('A média de eventos por usuários cai para {:.4} quando retiramos os outiliers.'.format(logs_media_eventos2['EventName'].mean()))\n"
   ]
  },
  {
   "cell_type": "markdown",
   "metadata": {},
   "source": [
    "### Qual é o período de tempo que os dados cobrem:"
   ]
  },
  {
   "cell_type": "markdown",
   "metadata": {},
   "source": [
    "#### Valores minimos e máximos, datas/horas:\n"
   ]
  },
  {
   "cell_type": "code",
   "execution_count": 28,
   "metadata": {},
   "outputs": [
    {
     "data": {
      "text/plain": [
       "Timestamp('2019-07-25 04:43:36')"
      ]
     },
     "execution_count": 28,
     "metadata": {},
     "output_type": "execute_result"
    }
   ],
   "source": [
    "logs['EventTimestamp'].min()"
   ]
  },
  {
   "cell_type": "code",
   "execution_count": 29,
   "metadata": {},
   "outputs": [
    {
     "data": {
      "text/plain": [
       "Timestamp('2019-08-07 21:15:17')"
      ]
     },
     "execution_count": 29,
     "metadata": {},
     "output_type": "execute_result"
    }
   ],
   "source": [
    "logs['EventTimestamp'].max()"
   ]
  },
  {
   "cell_type": "code",
   "execution_count": 30,
   "metadata": {},
   "outputs": [
    {
     "data": {
      "image/png": "[encoded data removed]",
      "text/plain": [
       "<IPython.core.display.Image object>"
      ]
     },
     "execution_count": 30,
     "metadata": {},
     "output_type": "execute_result"
    }
   ],
   "source": [
    "fig = px.histogram(logs, x='Data',\n",
    "             color_discrete_sequence=px.colors.qualitative.Pastel1,\n",
    "             template='plotly_white', \n",
    "             height=300, width=500)\n",
    "\n",
    "fig.update_layout(\n",
    "    yaxis_title='Quantidade de eventos',\n",
    "    xaxis_title = 'Data',\n",
    "    title={\n",
    "    'text' : 'Outliers',\n",
    "    'y': 0.9,\n",
    "    'x': 0.5\n",
    "        })\n",
    "\n",
    "# Convert the Plotly graph to a static image\n",
    "image_bytes = pio.to_image(fig, format='png')\n",
    "\n",
    "# Display the static image in the notebook\n",
    "from IPython.display import Image\n",
    "Image(image_bytes)"
   ]
  },
  {
   "cell_type": "markdown",
   "metadata": {},
   "source": [
    "Podemos perceber aqui que não temos os dados igualmente completos para todo o período.\n",
    "\n",
    "Os eventos mais antigos podem acabar aparecendo nos diários de alguns usuários por motivos técnicos, e isso pode distorcer o quadro geral. \n",
    "\n",
    "Podemos então desconsiderar os dados do mês de Julho, pois só em Agosto os dados começam a ser completos."
   ]
  },
  {
   "cell_type": "code",
   "execution_count": 31,
   "metadata": {},
   "outputs": [
    {
     "data": {
      "text/plain": [
       "2019-07-31    2030\n",
       "2019-07-30     412\n",
       "2019-07-29     184\n",
       "2019-07-28     105\n",
       "2019-07-27      55\n",
       "2019-07-26      31\n",
       "2019-07-25       9\n",
       "Name: Data, dtype: int64"
      ]
     },
     "execution_count": 31,
     "metadata": {},
     "output_type": "execute_result"
    }
   ],
   "source": [
    "data = logs[logs.Data <= '2019-07-31']\n",
    "data['Data'].value_counts()"
   ]
  },
  {
   "cell_type": "markdown",
   "metadata": {},
   "source": [
    "Acabamos perdendo um total de 2.826 eventos de usuários excluindo os dados mais antigos (referentes ao mês de julho/2019), não chega a 1% do total dos nossos dados."
   ]
  },
  {
   "cell_type": "code",
   "execution_count": 32,
   "metadata": {},
   "outputs": [
    {
     "data": {
      "text/html": [
       "<div>\n",
       "<style scoped>\n",
       "    .dataframe tbody tr th:only-of-type {\n",
       "        vertical-align: middle;\n",
       "    }\n",
       "\n",
       "    .dataframe tbody tr th {\n",
       "        vertical-align: top;\n",
       "    }\n",
       "\n",
       "    .dataframe thead th {\n",
       "        text-align: right;\n",
       "    }\n",
       "</style>\n",
       "<table border=\"1\" class=\"dataframe\">\n",
       "  <thead>\n",
       "    <tr style=\"text-align: right;\">\n",
       "      <th></th>\n",
       "      <th>EventName</th>\n",
       "      <th>DeviceIDHash</th>\n",
       "      <th>EventTimestamp</th>\n",
       "      <th>ExpId</th>\n",
       "      <th>Data</th>\n",
       "      <th>Time</th>\n",
       "    </tr>\n",
       "  </thead>\n",
       "  <tbody>\n",
       "    <tr>\n",
       "      <th>2828</th>\n",
       "      <td>Tutorial</td>\n",
       "      <td>3737462046622621720</td>\n",
       "      <td>2019-08-01 00:07:28</td>\n",
       "      <td>246</td>\n",
       "      <td>2019-08-01</td>\n",
       "      <td>00:07:28</td>\n",
       "    </tr>\n",
       "    <tr>\n",
       "      <th>2829</th>\n",
       "      <td>Tela Principal</td>\n",
       "      <td>3737462046622621720</td>\n",
       "      <td>2019-08-01 00:08:00</td>\n",
       "      <td>246</td>\n",
       "      <td>2019-08-01</td>\n",
       "      <td>00:08:00</td>\n",
       "    </tr>\n",
       "    <tr>\n",
       "      <th>2830</th>\n",
       "      <td>Tela Principal</td>\n",
       "      <td>3737462046622621720</td>\n",
       "      <td>2019-08-01 00:08:55</td>\n",
       "      <td>246</td>\n",
       "      <td>2019-08-01</td>\n",
       "      <td>00:08:55</td>\n",
       "    </tr>\n",
       "    <tr>\n",
       "      <th>2831</th>\n",
       "      <td>Tela de Ofertas</td>\n",
       "      <td>3737462046622621720</td>\n",
       "      <td>2019-08-01 00:08:58</td>\n",
       "      <td>246</td>\n",
       "      <td>2019-08-01</td>\n",
       "      <td>00:08:58</td>\n",
       "    </tr>\n",
       "    <tr>\n",
       "      <th>2832</th>\n",
       "      <td>Tela Principal</td>\n",
       "      <td>1433840883824088890</td>\n",
       "      <td>2019-08-01 00:08:59</td>\n",
       "      <td>247</td>\n",
       "      <td>2019-08-01</td>\n",
       "      <td>00:08:59</td>\n",
       "    </tr>\n",
       "    <tr>\n",
       "      <th>...</th>\n",
       "      <td>...</td>\n",
       "      <td>...</td>\n",
       "      <td>...</td>\n",
       "      <td>...</td>\n",
       "      <td>...</td>\n",
       "      <td>...</td>\n",
       "    </tr>\n",
       "    <tr>\n",
       "      <th>244121</th>\n",
       "      <td>Tela Principal</td>\n",
       "      <td>4599628364049201812</td>\n",
       "      <td>2019-08-07 21:12:25</td>\n",
       "      <td>247</td>\n",
       "      <td>2019-08-07</td>\n",
       "      <td>21:12:25</td>\n",
       "    </tr>\n",
       "    <tr>\n",
       "      <th>244122</th>\n",
       "      <td>Tela Principal</td>\n",
       "      <td>5849806612437486590</td>\n",
       "      <td>2019-08-07 21:13:59</td>\n",
       "      <td>246</td>\n",
       "      <td>2019-08-07</td>\n",
       "      <td>21:13:59</td>\n",
       "    </tr>\n",
       "    <tr>\n",
       "      <th>244123</th>\n",
       "      <td>Tela Principal</td>\n",
       "      <td>5746969938801999050</td>\n",
       "      <td>2019-08-07 21:14:43</td>\n",
       "      <td>246</td>\n",
       "      <td>2019-08-07</td>\n",
       "      <td>21:14:43</td>\n",
       "    </tr>\n",
       "    <tr>\n",
       "      <th>244124</th>\n",
       "      <td>Tela Principal</td>\n",
       "      <td>5746969938801999050</td>\n",
       "      <td>2019-08-07 21:14:58</td>\n",
       "      <td>246</td>\n",
       "      <td>2019-08-07</td>\n",
       "      <td>21:14:58</td>\n",
       "    </tr>\n",
       "    <tr>\n",
       "      <th>244125</th>\n",
       "      <td>Tela de Ofertas</td>\n",
       "      <td>5746969938801999050</td>\n",
       "      <td>2019-08-07 21:15:17</td>\n",
       "      <td>246</td>\n",
       "      <td>2019-08-07</td>\n",
       "      <td>21:15:17</td>\n",
       "    </tr>\n",
       "  </tbody>\n",
       "</table>\n",
       "<p>240887 rows × 6 columns</p>\n",
       "</div>"
      ],
      "text/plain": [
       "              EventName         DeviceIDHash      EventTimestamp  ExpId  \\\n",
       "2828           Tutorial  3737462046622621720 2019-08-01 00:07:28    246   \n",
       "2829     Tela Principal  3737462046622621720 2019-08-01 00:08:00    246   \n",
       "2830     Tela Principal  3737462046622621720 2019-08-01 00:08:55    246   \n",
       "2831    Tela de Ofertas  3737462046622621720 2019-08-01 00:08:58    246   \n",
       "2832     Tela Principal  1433840883824088890 2019-08-01 00:08:59    247   \n",
       "...                 ...                  ...                 ...    ...   \n",
       "244121   Tela Principal  4599628364049201812 2019-08-07 21:12:25    247   \n",
       "244122   Tela Principal  5849806612437486590 2019-08-07 21:13:59    246   \n",
       "244123   Tela Principal  5746969938801999050 2019-08-07 21:14:43    246   \n",
       "244124   Tela Principal  5746969938801999050 2019-08-07 21:14:58    246   \n",
       "244125  Tela de Ofertas  5746969938801999050 2019-08-07 21:15:17    246   \n",
       "\n",
       "             Data      Time  \n",
       "2828   2019-08-01  00:07:28  \n",
       "2829   2019-08-01  00:08:00  \n",
       "2830   2019-08-01  00:08:55  \n",
       "2831   2019-08-01  00:08:58  \n",
       "2832   2019-08-01  00:08:59  \n",
       "...           ...       ...  \n",
       "244121 2019-08-07  21:12:25  \n",
       "244122 2019-08-07  21:13:59  \n",
       "244123 2019-08-07  21:14:43  \n",
       "244124 2019-08-07  21:14:58  \n",
       "244125 2019-08-07  21:15:17  \n",
       "\n",
       "[240887 rows x 6 columns]"
      ]
     },
     "metadata": {},
     "output_type": "display_data"
    }
   ],
   "source": [
    "logs_august = logs[logs.Data > '2019-07-31']\n",
    "display(logs_august)"
   ]
  },
  {
   "cell_type": "code",
   "execution_count": 33,
   "metadata": {},
   "outputs": [
    {
     "data": {
      "image/png": "[encoded data removed]",
      "text/plain": [
       "<IPython.core.display.Image object>"
      ]
     },
     "execution_count": 33,
     "metadata": {},
     "output_type": "execute_result"
    }
   ],
   "source": [
    "fig = px.histogram(logs_august, x='Data',\n",
    "             color_discrete_sequence=px.colors.qualitative.Pastel1,\n",
    "             template='plotly_white', \n",
    "             height=300, width=500)\n",
    "\n",
    "fig.update_layout(\n",
    "    yaxis_title='Quantidade de eventos',\n",
    "    xaxis_title = 'Data',\n",
    "    title={\n",
    "    'text' : 'Histograma sem Outliers:',\n",
    "    'y': 0.9,\n",
    "    'x': 0.5\n",
    "        })\n",
    "\n",
    "# Convert the Plotly graph to a static image\n",
    "image_bytes = pio.to_image(fig, format='png')\n",
    "\n",
    "# Display the static image in the notebook\n",
    "from IPython.display import Image\n",
    "Image(image_bytes)"
   ]
  },
  {
   "cell_type": "markdown",
   "metadata": {},
   "source": [
    "### Certifique-se de ter usuários de todos os três grupos experimentais."
   ]
  },
  {
   "cell_type": "markdown",
   "metadata": {},
   "source": [
    "* Nº total de usuários com os dados totais:"
   ]
  },
  {
   "cell_type": "code",
   "execution_count": 34,
   "metadata": {},
   "outputs": [
    {
     "data": {
      "text/html": [
       "<div>\n",
       "<style scoped>\n",
       "    .dataframe tbody tr th:only-of-type {\n",
       "        vertical-align: middle;\n",
       "    }\n",
       "\n",
       "    .dataframe tbody tr th {\n",
       "        vertical-align: top;\n",
       "    }\n",
       "\n",
       "    .dataframe thead th {\n",
       "        text-align: right;\n",
       "    }\n",
       "</style>\n",
       "<table border=\"1\" class=\"dataframe\">\n",
       "  <thead>\n",
       "    <tr style=\"text-align: right;\">\n",
       "      <th></th>\n",
       "      <th>DeviceIDHash</th>\n",
       "    </tr>\n",
       "    <tr>\n",
       "      <th>ExpId</th>\n",
       "      <th></th>\n",
       "    </tr>\n",
       "  </thead>\n",
       "  <tbody>\n",
       "    <tr>\n",
       "      <th>246</th>\n",
       "      <td>2489</td>\n",
       "    </tr>\n",
       "    <tr>\n",
       "      <th>247</th>\n",
       "      <td>2520</td>\n",
       "    </tr>\n",
       "    <tr>\n",
       "      <th>248</th>\n",
       "      <td>2542</td>\n",
       "    </tr>\n",
       "  </tbody>\n",
       "</table>\n",
       "</div>"
      ],
      "text/plain": [
       "       DeviceIDHash\n",
       "ExpId              \n",
       "246            2489\n",
       "247            2520\n",
       "248            2542"
      ]
     },
     "metadata": {},
     "output_type": "display_data"
    }
   ],
   "source": [
    "logs_total = logs.groupby('ExpId').agg({'DeviceIDHash':'nunique'})\n",
    "display(logs_total)"
   ]
  },
  {
   "cell_type": "markdown",
   "metadata": {},
   "source": [
    "* Nº total de usuários somente com o mês de Agosto/2019:"
   ]
  },
  {
   "cell_type": "code",
   "execution_count": 35,
   "metadata": {},
   "outputs": [
    {
     "data": {
      "text/html": [
       "<div>\n",
       "<style scoped>\n",
       "    .dataframe tbody tr th:only-of-type {\n",
       "        vertical-align: middle;\n",
       "    }\n",
       "\n",
       "    .dataframe tbody tr th {\n",
       "        vertical-align: top;\n",
       "    }\n",
       "\n",
       "    .dataframe thead th {\n",
       "        text-align: right;\n",
       "    }\n",
       "</style>\n",
       "<table border=\"1\" class=\"dataframe\">\n",
       "  <thead>\n",
       "    <tr style=\"text-align: right;\">\n",
       "      <th></th>\n",
       "      <th>DeviceIDHash</th>\n",
       "    </tr>\n",
       "    <tr>\n",
       "      <th>ExpId</th>\n",
       "      <th></th>\n",
       "    </tr>\n",
       "  </thead>\n",
       "  <tbody>\n",
       "    <tr>\n",
       "      <th>246</th>\n",
       "      <td>2484</td>\n",
       "    </tr>\n",
       "    <tr>\n",
       "      <th>247</th>\n",
       "      <td>2513</td>\n",
       "    </tr>\n",
       "    <tr>\n",
       "      <th>248</th>\n",
       "      <td>2537</td>\n",
       "    </tr>\n",
       "  </tbody>\n",
       "</table>\n",
       "</div>"
      ],
      "text/plain": [
       "       DeviceIDHash\n",
       "ExpId              \n",
       "246            2484\n",
       "247            2513\n",
       "248            2537"
      ]
     },
     "metadata": {},
     "output_type": "display_data"
    }
   ],
   "source": [
    "logs_august_groups = logs_august.groupby('ExpId').agg({'DeviceIDHash':'nunique'})\n",
    "display(logs_august_groups)"
   ]
  },
  {
   "cell_type": "markdown",
   "metadata": {},
   "source": [
    "Podemos verificar abaixo que os usuários só fazem parte de um grupo do experimento, não há nenhum que participe de dois ou mais grupos ao mesmo tempo."
   ]
  },
  {
   "cell_type": "code",
   "execution_count": 36,
   "metadata": {},
   "outputs": [
    {
     "data": {
      "text/html": [
       "<div>\n",
       "<style scoped>\n",
       "    .dataframe tbody tr th:only-of-type {\n",
       "        vertical-align: middle;\n",
       "    }\n",
       "\n",
       "    .dataframe tbody tr th {\n",
       "        vertical-align: top;\n",
       "    }\n",
       "\n",
       "    .dataframe thead th {\n",
       "        text-align: right;\n",
       "    }\n",
       "</style>\n",
       "<table border=\"1\" class=\"dataframe\">\n",
       "  <thead>\n",
       "    <tr style=\"text-align: right;\">\n",
       "      <th></th>\n",
       "      <th>DeviceIDHash</th>\n",
       "      <th>ExpId</th>\n",
       "    </tr>\n",
       "  </thead>\n",
       "  <tbody>\n",
       "    <tr>\n",
       "      <th>0</th>\n",
       "      <td>6888746892508752</td>\n",
       "      <td>1</td>\n",
       "    </tr>\n",
       "    <tr>\n",
       "      <th>5018</th>\n",
       "      <td>6204944347213293942</td>\n",
       "      <td>1</td>\n",
       "    </tr>\n",
       "    <tr>\n",
       "      <th>5030</th>\n",
       "      <td>6215559225876063378</td>\n",
       "      <td>1</td>\n",
       "    </tr>\n",
       "    <tr>\n",
       "      <th>5029</th>\n",
       "      <td>6215162890135937308</td>\n",
       "      <td>1</td>\n",
       "    </tr>\n",
       "    <tr>\n",
       "      <th>5028</th>\n",
       "      <td>6213626876710715478</td>\n",
       "      <td>1</td>\n",
       "    </tr>\n",
       "  </tbody>\n",
       "</table>\n",
       "</div>"
      ],
      "text/plain": [
       "             DeviceIDHash  ExpId\n",
       "0        6888746892508752      1\n",
       "5018  6204944347213293942      1\n",
       "5030  6215559225876063378      1\n",
       "5029  6215162890135937308      1\n",
       "5028  6213626876710715478      1"
      ]
     },
     "metadata": {},
     "output_type": "display_data"
    },
    {
     "data": {
      "text/plain": [
       "1"
      ]
     },
     "metadata": {},
     "output_type": "display_data"
    },
    {
     "data": {
      "text/plain": [
       "1"
      ]
     },
     "metadata": {},
     "output_type": "display_data"
    }
   ],
   "source": [
    "logs_august_id = logs_august.groupby('DeviceIDHash').agg({'ExpId':'nunique'}).reset_index()\n",
    "logs_august_id = logs_august_id.sort_values(by=['ExpId'], ascending=False)\n",
    "display(logs_august_id.head(5))\n",
    "display(logs_august_id['ExpId'].max())\n",
    "display(logs_august_id['ExpId'].max())"
   ]
  },
  {
   "cell_type": "code",
   "execution_count": 37,
   "metadata": {},
   "outputs": [
    {
     "data": {
      "image/png": "[encoded data removed]",
      "text/plain": [
       "<IPython.core.display.Image object>"
      ]
     },
     "execution_count": 37,
     "metadata": {},
     "output_type": "execute_result"
    }
   ],
   "source": [
    "logs_time = logs['EventTimestamp'].dt.hour\n",
    "\n",
    "\n",
    "fig = px.histogram(logs_time, x='EventTimestamp',\n",
    "             color_discrete_sequence=px.colors.qualitative.Pastel1,\n",
    "             template='plotly_white', \n",
    "             height=300, width=500)\n",
    "\n",
    "fig.update_layout(\n",
    "    yaxis_title='Quantidade de eventos',\n",
    "    xaxis_title = 'Horas',\n",
    "    title={\n",
    "    'text' : 'Quantidade de eventos por horas:',\n",
    "    'y': 0.9,\n",
    "    'x': 0.5\n",
    "        })\n",
    "\n",
    "# Convert the Plotly graph to a static image\n",
    "image_bytes = pio.to_image(fig, format='png')\n",
    "\n",
    "# Display the static image in the notebook\n",
    "from IPython.display import Image\n",
    "Image(image_bytes)"
   ]
  },
  {
   "cell_type": "markdown",
   "metadata": {},
   "source": [
    "Podemos visualizar neste Histogram em qual horário os usuários costumam interagir mais."
   ]
  },
  {
   "cell_type": "markdown",
   "metadata": {},
   "source": [
    "[Voltar ao topo da página](#top)"
   ]
  },
  {
   "cell_type": "markdown",
   "metadata": {},
   "source": [
    "## <center><strong> Estudo do funil de eventos:"
   ]
  },
  {
   "cell_type": "markdown",
   "metadata": {},
   "source": [
    "Já havia feito alteração da nomenclatura dos dados na coluna EventName.\n",
    "\n",
    "Aqui criei uma nova coluna 'Actions' enumerando uma sequencia de ações (etapas que os usuários fazem para concluir a compra), sendo:\n",
    "\n",
    "* <strong>1</strong> - Tela Principal.\n",
    "* <strong>2</strong> - Tutorial.\n",
    "* <strong>3</strong> - Tela de Ofertas.\n",
    "* <strong>4</strong> - Tela carrinho.\n",
    "* <strong>5</strong> - Tela de pagamento."
   ]
  },
  {
   "cell_type": "markdown",
   "metadata": {},
   "source": [
    "Não acredito que todas as ações façam parte de uma única sequência, porém pelo menos 4 delas (Etapas: 1, 3, 4 e 5) são obrigatórias para se concluir a compra. \n",
    "\n",
    "Acredito que a Etapa 2 não seja obrigatória, pois verificando os dados abaixo podemos observar que apenas uma pequena quantidade de usuários acaba acessando esta página.\n",
    "\n"
   ]
  },
  {
   "cell_type": "markdown",
   "metadata": {},
   "source": [
    "### Frequência das ações:"
   ]
  },
  {
   "cell_type": "code",
   "execution_count": 38,
   "metadata": {},
   "outputs": [],
   "source": [
    "def actions (dados):\n",
    "    if 'Tela Principal'  in dados:\n",
    "        return '1'\n",
    "    if 'Tela de Pagamento' in dados:\n",
    "        return '5'\n",
    "    if 'Tela Carrinho' in dados:\n",
    "        return '4 '\n",
    "    if 'Tela de Ofertas' in dados:\n",
    "        return '3'\n",
    "    if 'Tutorial' in dados:\n",
    "        return '2'"
   ]
  },
  {
   "cell_type": "code",
   "execution_count": 39,
   "metadata": {},
   "outputs": [
    {
     "data": {
      "text/html": [
       "<div>\n",
       "<style scoped>\n",
       "    .dataframe tbody tr th:only-of-type {\n",
       "        vertical-align: middle;\n",
       "    }\n",
       "\n",
       "    .dataframe tbody tr th {\n",
       "        vertical-align: top;\n",
       "    }\n",
       "\n",
       "    .dataframe thead th {\n",
       "        text-align: right;\n",
       "    }\n",
       "</style>\n",
       "<table border=\"1\" class=\"dataframe\">\n",
       "  <thead>\n",
       "    <tr style=\"text-align: right;\">\n",
       "      <th></th>\n",
       "      <th>EventName</th>\n",
       "      <th>DeviceIDHash</th>\n",
       "      <th>EventTimestamp</th>\n",
       "      <th>ExpId</th>\n",
       "      <th>Data</th>\n",
       "      <th>Time</th>\n",
       "      <th>Actions</th>\n",
       "    </tr>\n",
       "  </thead>\n",
       "  <tbody>\n",
       "    <tr>\n",
       "      <th>2828</th>\n",
       "      <td>Tutorial</td>\n",
       "      <td>3737462046622621720</td>\n",
       "      <td>2019-08-01 00:07:28</td>\n",
       "      <td>246</td>\n",
       "      <td>2019-08-01</td>\n",
       "      <td>00:07:28</td>\n",
       "      <td>2</td>\n",
       "    </tr>\n",
       "    <tr>\n",
       "      <th>2829</th>\n",
       "      <td>Tela Principal</td>\n",
       "      <td>3737462046622621720</td>\n",
       "      <td>2019-08-01 00:08:00</td>\n",
       "      <td>246</td>\n",
       "      <td>2019-08-01</td>\n",
       "      <td>00:08:00</td>\n",
       "      <td>1</td>\n",
       "    </tr>\n",
       "    <tr>\n",
       "      <th>2830</th>\n",
       "      <td>Tela Principal</td>\n",
       "      <td>3737462046622621720</td>\n",
       "      <td>2019-08-01 00:08:55</td>\n",
       "      <td>246</td>\n",
       "      <td>2019-08-01</td>\n",
       "      <td>00:08:55</td>\n",
       "      <td>1</td>\n",
       "    </tr>\n",
       "    <tr>\n",
       "      <th>2831</th>\n",
       "      <td>Tela de Ofertas</td>\n",
       "      <td>3737462046622621720</td>\n",
       "      <td>2019-08-01 00:08:58</td>\n",
       "      <td>246</td>\n",
       "      <td>2019-08-01</td>\n",
       "      <td>00:08:58</td>\n",
       "      <td>3</td>\n",
       "    </tr>\n",
       "    <tr>\n",
       "      <th>2832</th>\n",
       "      <td>Tela Principal</td>\n",
       "      <td>1433840883824088890</td>\n",
       "      <td>2019-08-01 00:08:59</td>\n",
       "      <td>247</td>\n",
       "      <td>2019-08-01</td>\n",
       "      <td>00:08:59</td>\n",
       "      <td>1</td>\n",
       "    </tr>\n",
       "  </tbody>\n",
       "</table>\n",
       "</div>"
      ],
      "text/plain": [
       "            EventName         DeviceIDHash      EventTimestamp  ExpId  \\\n",
       "2828         Tutorial  3737462046622621720 2019-08-01 00:07:28    246   \n",
       "2829   Tela Principal  3737462046622621720 2019-08-01 00:08:00    246   \n",
       "2830   Tela Principal  3737462046622621720 2019-08-01 00:08:55    246   \n",
       "2831  Tela de Ofertas  3737462046622621720 2019-08-01 00:08:58    246   \n",
       "2832   Tela Principal  1433840883824088890 2019-08-01 00:08:59    247   \n",
       "\n",
       "           Data      Time Actions  \n",
       "2828 2019-08-01  00:07:28       2  \n",
       "2829 2019-08-01  00:08:00       1  \n",
       "2830 2019-08-01  00:08:55       1  \n",
       "2831 2019-08-01  00:08:58       3  \n",
       "2832 2019-08-01  00:08:59       1  "
      ]
     },
     "metadata": {},
     "output_type": "display_data"
    }
   ],
   "source": [
    "logs_august['Actions'] = logs_august['EventName'].apply(actions)\n",
    "display(logs_august.head(5))"
   ]
  },
  {
   "cell_type": "code",
   "execution_count": 40,
   "metadata": {},
   "outputs": [
    {
     "data": {
      "text/html": [
       "<div>\n",
       "<style scoped>\n",
       "    .dataframe tbody tr th:only-of-type {\n",
       "        vertical-align: middle;\n",
       "    }\n",
       "\n",
       "    .dataframe tbody tr th {\n",
       "        vertical-align: top;\n",
       "    }\n",
       "\n",
       "    .dataframe thead th {\n",
       "        text-align: right;\n",
       "    }\n",
       "</style>\n",
       "<table border=\"1\" class=\"dataframe\">\n",
       "  <thead>\n",
       "    <tr style=\"text-align: right;\">\n",
       "      <th></th>\n",
       "      <th>EventName</th>\n",
       "      <th>Actions</th>\n",
       "    </tr>\n",
       "  </thead>\n",
       "  <tbody>\n",
       "    <tr>\n",
       "      <th>1</th>\n",
       "      <td>Tela Principal</td>\n",
       "      <td>117328</td>\n",
       "    </tr>\n",
       "    <tr>\n",
       "      <th>2</th>\n",
       "      <td>Tela de Ofertas</td>\n",
       "      <td>46333</td>\n",
       "    </tr>\n",
       "    <tr>\n",
       "      <th>0</th>\n",
       "      <td>Tela Carrinho</td>\n",
       "      <td>42303</td>\n",
       "    </tr>\n",
       "    <tr>\n",
       "      <th>3</th>\n",
       "      <td>Tela de Pagamento</td>\n",
       "      <td>33918</td>\n",
       "    </tr>\n",
       "    <tr>\n",
       "      <th>4</th>\n",
       "      <td>Tutorial</td>\n",
       "      <td>1005</td>\n",
       "    </tr>\n",
       "  </tbody>\n",
       "</table>\n",
       "</div>"
      ],
      "text/plain": [
       "           EventName  Actions\n",
       "1     Tela Principal   117328\n",
       "2    Tela de Ofertas    46333\n",
       "0      Tela Carrinho    42303\n",
       "3  Tela de Pagamento    33918\n",
       "4           Tutorial     1005"
      ]
     },
     "metadata": {},
     "output_type": "display_data"
    }
   ],
   "source": [
    "frequencia = logs_august.groupby('EventName')['Actions'].count().reset_index()\n",
    "frequencia = frequencia.sort_values(by=['Actions'], ascending=False)\n",
    "display(frequencia)"
   ]
  },
  {
   "cell_type": "code",
   "execution_count": 41,
   "metadata": {},
   "outputs": [
    {
     "data": {
      "image/png": "[encoded data removed]",
      "text/plain": [
       "<IPython.core.display.Image object>"
      ]
     },
     "execution_count": 41,
     "metadata": {},
     "output_type": "execute_result"
    }
   ],
   "source": [
    "fig = px.funnel(frequencia, x='Actions', y='EventName',\n",
    "                color_discrete_sequence=px.colors.qualitative.Pastel1,\n",
    "             template='plotly_white', \n",
    "             height=300, width=500)\n",
    "\n",
    "fig.update_layout(\n",
    "    yaxis_title='',\n",
    "    title={\n",
    "    'text' : 'Quantidade de vezes que os usuários entram em cada página:',\n",
    "    'y': 0.97,\n",
    "    'x': 0.5\n",
    "        })\n",
    "\n",
    "# Convert the Plotly graph to a static image\n",
    "image_bytes = pio.to_image(fig, format='png')\n",
    "\n",
    "# Display the static image in the notebook\n",
    "from IPython.display import Image\n",
    "Image(image_bytes)"
   ]
  },
  {
   "cell_type": "markdown",
   "metadata": {},
   "source": [
    "Podemos observar aqui que a página principal é a que tem o maior nº de acessos, e o Tutorial é a página com menor número."
   ]
  },
  {
   "cell_type": "markdown",
   "metadata": {},
   "source": [
    "### Quantidade de usuários unívocos que acessaram as páginas:"
   ]
  },
  {
   "cell_type": "code",
   "execution_count": 42,
   "metadata": {},
   "outputs": [
    {
     "data": {
      "text/html": [
       "<div>\n",
       "<style scoped>\n",
       "    .dataframe tbody tr th:only-of-type {\n",
       "        vertical-align: middle;\n",
       "    }\n",
       "\n",
       "    .dataframe tbody tr th {\n",
       "        vertical-align: top;\n",
       "    }\n",
       "\n",
       "    .dataframe thead th {\n",
       "        text-align: right;\n",
       "    }\n",
       "</style>\n",
       "<table border=\"1\" class=\"dataframe\">\n",
       "  <thead>\n",
       "    <tr style=\"text-align: right;\">\n",
       "      <th></th>\n",
       "      <th>EventName</th>\n",
       "      <th>DeviceIDHash</th>\n",
       "    </tr>\n",
       "  </thead>\n",
       "  <tbody>\n",
       "    <tr>\n",
       "      <th>4</th>\n",
       "      <td>Tutorial</td>\n",
       "      <td>840</td>\n",
       "    </tr>\n",
       "    <tr>\n",
       "      <th>3</th>\n",
       "      <td>Tela de Pagamento</td>\n",
       "      <td>3539</td>\n",
       "    </tr>\n",
       "    <tr>\n",
       "      <th>0</th>\n",
       "      <td>Tela Carrinho</td>\n",
       "      <td>3734</td>\n",
       "    </tr>\n",
       "    <tr>\n",
       "      <th>2</th>\n",
       "      <td>Tela de Ofertas</td>\n",
       "      <td>4593</td>\n",
       "    </tr>\n",
       "    <tr>\n",
       "      <th>1</th>\n",
       "      <td>Tela Principal</td>\n",
       "      <td>7419</td>\n",
       "    </tr>\n",
       "  </tbody>\n",
       "</table>\n",
       "</div>"
      ],
      "text/plain": [
       "           EventName  DeviceIDHash\n",
       "4           Tutorial           840\n",
       "3  Tela de Pagamento          3539\n",
       "0      Tela Carrinho          3734\n",
       "2    Tela de Ofertas          4593\n",
       "1     Tela Principal          7419"
      ]
     },
     "metadata": {},
     "output_type": "display_data"
    }
   ],
   "source": [
    "frequencia_users = logs_august.groupby('EventName').agg({'DeviceIDHash':'nunique'}).reset_index()\n",
    "frequencia_users = frequencia_users.sort_values(by=['DeviceIDHash'], ascending=True)\n",
    "display(frequencia_users)"
   ]
  },
  {
   "cell_type": "markdown",
   "metadata": {},
   "source": [
    "Agora vemos claramente quantas pessoas chegaram a cada uma das etapas do funil.\n",
    "\n",
    "50% dos usuários que acessaram o site adicionaram um produto ao carrinho. No entanto, dos 7.419 usuários que entraram no site, apenas 3.539 acabaram fazendo compras. "
   ]
  },
  {
   "cell_type": "markdown",
   "metadata": {},
   "source": [
    "### Funil:"
   ]
  },
  {
   "cell_type": "code",
   "execution_count": 43,
   "metadata": {},
   "outputs": [
    {
     "data": {
      "text/html": [
       "<div>\n",
       "<style scoped>\n",
       "    .dataframe tbody tr th:only-of-type {\n",
       "        vertical-align: middle;\n",
       "    }\n",
       "\n",
       "    .dataframe tbody tr th {\n",
       "        vertical-align: top;\n",
       "    }\n",
       "\n",
       "    .dataframe thead th {\n",
       "        text-align: right;\n",
       "    }\n",
       "</style>\n",
       "<table border=\"1\" class=\"dataframe\">\n",
       "  <thead>\n",
       "    <tr style=\"text-align: right;\">\n",
       "      <th>EventName</th>\n",
       "      <th>Tela Carrinho</th>\n",
       "      <th>Tela Principal</th>\n",
       "      <th>Tela de Ofertas</th>\n",
       "      <th>Tela de Pagamento</th>\n",
       "      <th>Tutorial</th>\n",
       "    </tr>\n",
       "    <tr>\n",
       "      <th>DeviceIDHash</th>\n",
       "      <th></th>\n",
       "      <th></th>\n",
       "      <th></th>\n",
       "      <th></th>\n",
       "      <th></th>\n",
       "    </tr>\n",
       "  </thead>\n",
       "  <tbody>\n",
       "    <tr>\n",
       "      <th>6888746892508752</th>\n",
       "      <td>NaT</td>\n",
       "      <td>2019-08-06 14:06:34</td>\n",
       "      <td>NaT</td>\n",
       "      <td>NaT</td>\n",
       "      <td>NaT</td>\n",
       "    </tr>\n",
       "    <tr>\n",
       "      <th>6909561520679493</th>\n",
       "      <td>2019-08-06 18:52:58</td>\n",
       "      <td>2019-08-06 18:52:54</td>\n",
       "      <td>2019-08-06 18:53:04</td>\n",
       "      <td>2019-08-06 18:52:58</td>\n",
       "      <td>NaT</td>\n",
       "    </tr>\n",
       "    <tr>\n",
       "      <th>6922444491712477</th>\n",
       "      <td>2019-08-04 14:19:40</td>\n",
       "      <td>2019-08-04 14:19:33</td>\n",
       "      <td>2019-08-04 14:19:46</td>\n",
       "      <td>2019-08-04 14:19:40</td>\n",
       "      <td>NaT</td>\n",
       "    </tr>\n",
       "  </tbody>\n",
       "</table>\n",
       "</div>"
      ],
      "text/plain": [
       "EventName              Tela Carrinho      Tela Principal     Tela de Ofertas  \\\n",
       "DeviceIDHash                                                                   \n",
       "6888746892508752                 NaT 2019-08-06 14:06:34                 NaT   \n",
       "6909561520679493 2019-08-06 18:52:58 2019-08-06 18:52:54 2019-08-06 18:53:04   \n",
       "6922444491712477 2019-08-04 14:19:40 2019-08-04 14:19:33 2019-08-04 14:19:46   \n",
       "\n",
       "EventName          Tela de Pagamento Tutorial  \n",
       "DeviceIDHash                                   \n",
       "6888746892508752                 NaT      NaT  \n",
       "6909561520679493 2019-08-06 18:52:58      NaT  \n",
       "6922444491712477 2019-08-04 14:19:40      NaT  "
      ]
     },
     "metadata": {},
     "output_type": "display_data"
    }
   ],
   "source": [
    "users = logs_august.pivot_table(\n",
    "    index='DeviceIDHash', \n",
    "    columns='EventName', \n",
    "    values='EventTimestamp',\n",
    "    aggfunc='min') \n",
    "display(users.head(3))"
   ]
  },
  {
   "cell_type": "code",
   "execution_count": 44,
   "metadata": {},
   "outputs": [
    {
     "name": "stdout",
     "output_type": "stream",
     "text": [
      "Tela Principal: 7419\n",
      "Tela de ofertas: 4201\n",
      "Tela de carrinho: 1767\n",
      "Pagaram: 454\n"
     ]
    }
   ],
   "source": [
    "step_1 = ~users['Tela Principal'].isna()\n",
    "step_2 = step_1 & (users['Tela de Ofertas'] > users['Tela Principal'])\n",
    "step_3 = step_2 & (users['Tela Carrinho'] > users['Tela de Ofertas'])\n",
    "step_4 = step_3 & (users['Tela de Pagamento'] > users['Tela Carrinho'])\n",
    "\n",
    "n_pageview = users[step_1].shape[0]\n",
    "n_offers = users[step_2].shape[0]\n",
    "n_add_to_cart = users[step_3].shape[0]\n",
    "n_payment = users[step_4].shape[0]\n",
    "\n",
    "print('Tela Principal:', n_pageview)\n",
    "print('Tela de ofertas:', n_offers)\n",
    "print('Tela de carrinho:', n_add_to_cart)\n",
    "print('Pagaram:', n_payment) "
   ]
  },
  {
   "cell_type": "markdown",
   "metadata": {},
   "source": [
    "Comparando o funil resultante, em que a sequência de eventos é levada em consideração (acima), com um funil simples (abaixo). "
   ]
  },
  {
   "cell_type": "code",
   "execution_count": 45,
   "metadata": {},
   "outputs": [
    {
     "data": {
      "text/html": [
       "<div>\n",
       "<style scoped>\n",
       "    .dataframe tbody tr th:only-of-type {\n",
       "        vertical-align: middle;\n",
       "    }\n",
       "\n",
       "    .dataframe tbody tr th {\n",
       "        vertical-align: top;\n",
       "    }\n",
       "\n",
       "    .dataframe thead th {\n",
       "        text-align: right;\n",
       "    }\n",
       "</style>\n",
       "<table border=\"1\" class=\"dataframe\">\n",
       "  <thead>\n",
       "    <tr style=\"text-align: right;\">\n",
       "      <th></th>\n",
       "      <th>EventName</th>\n",
       "      <th>DeviceIDHash</th>\n",
       "    </tr>\n",
       "  </thead>\n",
       "  <tbody>\n",
       "    <tr>\n",
       "      <th>4</th>\n",
       "      <td>Tutorial</td>\n",
       "      <td>840</td>\n",
       "    </tr>\n",
       "    <tr>\n",
       "      <th>3</th>\n",
       "      <td>Tela de Pagamento</td>\n",
       "      <td>3539</td>\n",
       "    </tr>\n",
       "    <tr>\n",
       "      <th>0</th>\n",
       "      <td>Tela Carrinho</td>\n",
       "      <td>3734</td>\n",
       "    </tr>\n",
       "    <tr>\n",
       "      <th>2</th>\n",
       "      <td>Tela de Ofertas</td>\n",
       "      <td>4593</td>\n",
       "    </tr>\n",
       "    <tr>\n",
       "      <th>1</th>\n",
       "      <td>Tela Principal</td>\n",
       "      <td>7419</td>\n",
       "    </tr>\n",
       "  </tbody>\n",
       "</table>\n",
       "</div>"
      ],
      "text/plain": [
       "           EventName  DeviceIDHash\n",
       "4           Tutorial           840\n",
       "3  Tela de Pagamento          3539\n",
       "0      Tela Carrinho          3734\n",
       "2    Tela de Ofertas          4593\n",
       "1     Tela Principal          7419"
      ]
     },
     "metadata": {},
     "output_type": "display_data"
    }
   ],
   "source": [
    "display(frequencia_users)"
   ]
  },
  {
   "cell_type": "markdown",
   "metadata": {},
   "source": [
    "Podemos dizer que o número de usuários no primeiro estágio (tela principal) coincide, mas os estágios seguintes diferem. Isso significa que nem todos os usuários seguem a rota esperada."
   ]
  },
  {
   "cell_type": "markdown",
   "metadata": {},
   "source": [
    "### Fase em que se perde mais usuários:"
   ]
  },
  {
   "cell_type": "markdown",
   "metadata": {},
   "source": [
    "A tabela abaixo nos mostra a porcentagem da conversão total e a porcentagem de conversão para o próximo estágio."
   ]
  },
  {
   "cell_type": "code",
   "execution_count": 46,
   "metadata": {},
   "outputs": [],
   "source": [
    "#criando o dataframe com os dados\n",
    "df_temporario = pd.DataFrame({'Tela Principal:': [n_pageview],\n",
    "             'Tela de ofertas:': [n_offers],\n",
    "              'Tela de carrinho:': [n_add_to_cart],\n",
    "              'Pagaram:': [n_payment]\n",
    "             }).T.reset_index()\n",
    "df_temporario.columns=['Evento', 'Quantidade']\n",
    "df_temporario['Diff_Qtd'] = df_temporario['Quantidade'].diff().fillna(0)\n",
    "df_temporario['Conversao'] = df_temporario['Quantidade']/(np.abs(df_temporario['Diff_Qtd']) + df_temporario['Quantidade'])*100\n",
    "df_temporario['Conversao'] =round(df_temporario['Conversao'],2).astype(int)\n",
    "\n",
    "\n",
    "df_temporario['Diff_Conversao'] = df_temporario['Conversao'].diff().fillna(0)\n",
    "df_temporario['Conversao_fase_2'] = np.abs(df_temporario['Conversao'])/(np.abs(df_temporario['Diff_Conversao']) + df_temporario['Conversao'])*100\n",
    "\n",
    "df_temporario['Conversao'] =round(df_temporario['Conversao'],2).astype(str)\n",
    "df_temporario['Conversao_fase_2'] =round(df_temporario['Conversao_fase_2'],2).astype(str)\n",
    "\n",
    "df_temporario['Conversao']=df_temporario['Conversao']+'%'\n",
    "df_temporario['Conversao_fase_2']=df_temporario['Conversao_fase_2']+'%'\n",
    "\n",
    "df_temporario = df_temporario.drop(['Diff_Qtd','Diff_Conversao'], axis=1)"
   ]
  },
  {
   "cell_type": "code",
   "execution_count": 47,
   "metadata": {},
   "outputs": [
    {
     "data": {
      "text/html": [
       "<style  type=\"text/css\" >\n",
       "#T_36e8a_row0_col0,#T_36e8a_row0_col1,#T_36e8a_row0_col2,#T_36e8a_row0_col3,#T_36e8a_row2_col0,#T_36e8a_row2_col1,#T_36e8a_row2_col2,#T_36e8a_row2_col3{\n",
       "            text-align:  center;\n",
       "        }#T_36e8a_row1_col0,#T_36e8a_row1_col1,#T_36e8a_row1_col2,#T_36e8a_row1_col3,#T_36e8a_row3_col0,#T_36e8a_row3_col1,#T_36e8a_row3_col2,#T_36e8a_row3_col3{\n",
       "            background-color: #f2e7e6;\n",
       "            text-align:  center;\n",
       "        }</style><table id=\"T_36e8a_\" ><thead>    <tr>        <th class=\"col_heading level0 col0\" >Evento</th>        <th class=\"col_heading level0 col1\" >Quantidade</th>        <th class=\"col_heading level0 col2\" >Conversao</th>        <th class=\"col_heading level0 col3\" >Conversao_fase_2</th>    </tr></thead><tbody>\n",
       "                <tr>\n",
       "                                <td id=\"T_36e8a_row0_col0\" class=\"data row0 col0\" >Tela Principal:</td>\n",
       "                        <td id=\"T_36e8a_row0_col1\" class=\"data row0 col1\" >7419</td>\n",
       "                        <td id=\"T_36e8a_row0_col2\" class=\"data row0 col2\" >100%</td>\n",
       "                        <td id=\"T_36e8a_row0_col3\" class=\"data row0 col3\" >100.0%</td>\n",
       "            </tr>\n",
       "            <tr>\n",
       "                                <td id=\"T_36e8a_row1_col0\" class=\"data row1 col0\" >Tela de ofertas:</td>\n",
       "                        <td id=\"T_36e8a_row1_col1\" class=\"data row1 col1\" >4201</td>\n",
       "                        <td id=\"T_36e8a_row1_col2\" class=\"data row1 col2\" >56%</td>\n",
       "                        <td id=\"T_36e8a_row1_col3\" class=\"data row1 col3\" >56.0%</td>\n",
       "            </tr>\n",
       "            <tr>\n",
       "                                <td id=\"T_36e8a_row2_col0\" class=\"data row2 col0\" >Tela de carrinho:</td>\n",
       "                        <td id=\"T_36e8a_row2_col1\" class=\"data row2 col1\" >1767</td>\n",
       "                        <td id=\"T_36e8a_row2_col2\" class=\"data row2 col2\" >42%</td>\n",
       "                        <td id=\"T_36e8a_row2_col3\" class=\"data row2 col3\" >75.0%</td>\n",
       "            </tr>\n",
       "            <tr>\n",
       "                                <td id=\"T_36e8a_row3_col0\" class=\"data row3 col0\" >Pagaram:</td>\n",
       "                        <td id=\"T_36e8a_row3_col1\" class=\"data row3 col1\" >454</td>\n",
       "                        <td id=\"T_36e8a_row3_col2\" class=\"data row3 col2\" >25%</td>\n",
       "                        <td id=\"T_36e8a_row3_col3\" class=\"data row3 col3\" >59.52%</td>\n",
       "            </tr>\n",
       "    </tbody></table>"
      ],
      "text/plain": [
       "<pandas.io.formats.style.Styler at 0x7f50179b72e0>"
      ]
     },
     "execution_count": 47,
     "metadata": {},
     "output_type": "execute_result"
    }
   ],
   "source": [
    "#função para colorir o pandas de acordo com as linhas\n",
    "def rower(data):\n",
    "    s = data.index % 2 != 0\n",
    "    s = pd.concat([pd.Series(s)] * data.shape[1], axis=1) \n",
    "    z = pd.DataFrame(np.where(s, 'background-color:#f2e7e6', ''),\n",
    "                  index=data.index, columns=data.columns)\n",
    "    return z\n",
    "#exibindo o df formatado\n",
    "df_temporario.style.apply(rower, axis=None).set_properties(**{'text-align': 'center'}).hide_index()"
   ]
  },
  {
   "cell_type": "markdown",
   "metadata": {},
   "source": [
    "A conversão total é a proporção de usuários em um estágio específico para o número de usuários no primeiro estágio. \n",
    "\n",
    "A conversão para o próximo estágio é a proporção de usuários em um estágio específico para o número de usuários no estágio anterior.\n",
    "\n",
    "Os dados nesta pequena tabela nos permitem tirar muitas conclusões e hipóteses, como por exemplo:\n",
    "\n",
    "   * <strong>Em qual fase você perde mais usuários?</strong>\n",
    "\n",
    "A fase que estamos perdendo mais usuários é da tela do Carrinho de compras para a tela de pagamento, estamos convertendo apenas 26% de usuários, isso quer dizer que estamos perdendo 74%.\n",
    "\n",
    "   * <strong>Qual é a parcela de usuários que faz o caminho inteiro, desde o primeiro evento até o pagamento?</strong>\n",
    "\n",
    "A parcela de usuários que faz todo o caminho é de 6%.\n"
   ]
  },
  {
   "cell_type": "markdown",
   "metadata": {},
   "source": [
    "[Voltar ao topo da página](#top)"
   ]
  },
  {
   "cell_type": "markdown",
   "metadata": {},
   "source": [
    "## <center><strong> Experimento:"
   ]
  },
  {
   "cell_type": "markdown",
   "metadata": {},
   "source": [
    "### Quantidade de usuários em cada grupo:"
   ]
  },
  {
   "cell_type": "code",
   "execution_count": 48,
   "metadata": {},
   "outputs": [
    {
     "data": {
      "text/html": [
       "<div>\n",
       "<style scoped>\n",
       "    .dataframe tbody tr th:only-of-type {\n",
       "        vertical-align: middle;\n",
       "    }\n",
       "\n",
       "    .dataframe tbody tr th {\n",
       "        vertical-align: top;\n",
       "    }\n",
       "\n",
       "    .dataframe thead th {\n",
       "        text-align: right;\n",
       "    }\n",
       "</style>\n",
       "<table border=\"1\" class=\"dataframe\">\n",
       "  <thead>\n",
       "    <tr style=\"text-align: right;\">\n",
       "      <th></th>\n",
       "      <th>ExpId</th>\n",
       "      <th>DeviceIDHash</th>\n",
       "    </tr>\n",
       "  </thead>\n",
       "  <tbody>\n",
       "    <tr>\n",
       "      <th>0</th>\n",
       "      <td>246</td>\n",
       "      <td>2484</td>\n",
       "    </tr>\n",
       "    <tr>\n",
       "      <th>1</th>\n",
       "      <td>247</td>\n",
       "      <td>2513</td>\n",
       "    </tr>\n",
       "    <tr>\n",
       "      <th>2</th>\n",
       "      <td>248</td>\n",
       "      <td>2537</td>\n",
       "    </tr>\n",
       "  </tbody>\n",
       "</table>\n",
       "</div>"
      ],
      "text/plain": [
       "   ExpId  DeviceIDHash\n",
       "0    246          2484\n",
       "1    247          2513\n",
       "2    248          2537"
      ]
     },
     "metadata": {},
     "output_type": "display_data"
    }
   ],
   "source": [
    "users_grups = logs_august.groupby('ExpId').agg({'DeviceIDHash':'nunique'}).reset_index()\n",
    "users_grups = users_grups.sort_values(by=['DeviceIDHash'], ascending=True)\n",
    "display(users_grups)"
   ]
  },
  {
   "cell_type": "markdown",
   "metadata": {},
   "source": [
    "### Diferença estatisticamente significativa entre as amostragens 246 e 247:"
   ]
  },
  {
   "cell_type": "markdown",
   "metadata": {},
   "source": [
    "<strong>Para todos os testes de hipoteses abaixo considere:</strong>\n",
    "\n",
    "Hipotese alternativa: há uma diferença estatisticamente significativa entre as amostragens 246 e 247.\n",
    "\n",
    "Hipotese nula: não há diferença estatisticamente significativa entre as amostragens 246 e 247."
   ]
  },
  {
   "cell_type": "code",
   "execution_count": 49,
   "metadata": {},
   "outputs": [
    {
     "data": {
      "text/html": [
       "<div>\n",
       "<style scoped>\n",
       "    .dataframe tbody tr th:only-of-type {\n",
       "        vertical-align: middle;\n",
       "    }\n",
       "\n",
       "    .dataframe tbody tr th {\n",
       "        vertical-align: top;\n",
       "    }\n",
       "\n",
       "    .dataframe thead th {\n",
       "        text-align: right;\n",
       "    }\n",
       "</style>\n",
       "<table border=\"1\" class=\"dataframe\">\n",
       "  <thead>\n",
       "    <tr style=\"text-align: right;\">\n",
       "      <th></th>\n",
       "      <th>ExpId</th>\n",
       "      <th>EventName</th>\n",
       "      <th>DeviceIDHash</th>\n",
       "    </tr>\n",
       "  </thead>\n",
       "  <tbody>\n",
       "    <tr>\n",
       "      <th>0</th>\n",
       "      <td>246</td>\n",
       "      <td>Tela Carrinho</td>\n",
       "      <td>1266</td>\n",
       "    </tr>\n",
       "    <tr>\n",
       "      <th>1</th>\n",
       "      <td>246</td>\n",
       "      <td>Tela Principal</td>\n",
       "      <td>2450</td>\n",
       "    </tr>\n",
       "    <tr>\n",
       "      <th>2</th>\n",
       "      <td>246</td>\n",
       "      <td>Tela de Ofertas</td>\n",
       "      <td>1542</td>\n",
       "    </tr>\n",
       "    <tr>\n",
       "      <th>3</th>\n",
       "      <td>246</td>\n",
       "      <td>Tela de Pagamento</td>\n",
       "      <td>1200</td>\n",
       "    </tr>\n",
       "    <tr>\n",
       "      <th>4</th>\n",
       "      <td>246</td>\n",
       "      <td>Tutorial</td>\n",
       "      <td>278</td>\n",
       "    </tr>\n",
       "    <tr>\n",
       "      <th>5</th>\n",
       "      <td>247</td>\n",
       "      <td>Tela Carrinho</td>\n",
       "      <td>1238</td>\n",
       "    </tr>\n",
       "    <tr>\n",
       "      <th>6</th>\n",
       "      <td>247</td>\n",
       "      <td>Tela Principal</td>\n",
       "      <td>2476</td>\n",
       "    </tr>\n",
       "    <tr>\n",
       "      <th>7</th>\n",
       "      <td>247</td>\n",
       "      <td>Tela de Ofertas</td>\n",
       "      <td>1520</td>\n",
       "    </tr>\n",
       "    <tr>\n",
       "      <th>8</th>\n",
       "      <td>247</td>\n",
       "      <td>Tela de Pagamento</td>\n",
       "      <td>1158</td>\n",
       "    </tr>\n",
       "    <tr>\n",
       "      <th>9</th>\n",
       "      <td>247</td>\n",
       "      <td>Tutorial</td>\n",
       "      <td>283</td>\n",
       "    </tr>\n",
       "    <tr>\n",
       "      <th>10</th>\n",
       "      <td>248</td>\n",
       "      <td>Tela Carrinho</td>\n",
       "      <td>1230</td>\n",
       "    </tr>\n",
       "    <tr>\n",
       "      <th>11</th>\n",
       "      <td>248</td>\n",
       "      <td>Tela Principal</td>\n",
       "      <td>2493</td>\n",
       "    </tr>\n",
       "    <tr>\n",
       "      <th>12</th>\n",
       "      <td>248</td>\n",
       "      <td>Tela de Ofertas</td>\n",
       "      <td>1531</td>\n",
       "    </tr>\n",
       "    <tr>\n",
       "      <th>13</th>\n",
       "      <td>248</td>\n",
       "      <td>Tela de Pagamento</td>\n",
       "      <td>1181</td>\n",
       "    </tr>\n",
       "    <tr>\n",
       "      <th>14</th>\n",
       "      <td>248</td>\n",
       "      <td>Tutorial</td>\n",
       "      <td>279</td>\n",
       "    </tr>\n",
       "  </tbody>\n",
       "</table>\n",
       "</div>"
      ],
      "text/plain": [
       "    ExpId          EventName  DeviceIDHash\n",
       "0     246      Tela Carrinho          1266\n",
       "1     246     Tela Principal          2450\n",
       "2     246    Tela de Ofertas          1542\n",
       "3     246  Tela de Pagamento          1200\n",
       "4     246           Tutorial           278\n",
       "5     247      Tela Carrinho          1238\n",
       "6     247     Tela Principal          2476\n",
       "7     247    Tela de Ofertas          1520\n",
       "8     247  Tela de Pagamento          1158\n",
       "9     247           Tutorial           283\n",
       "10    248      Tela Carrinho          1230\n",
       "11    248     Tela Principal          2493\n",
       "12    248    Tela de Ofertas          1531\n",
       "13    248  Tela de Pagamento          1181\n",
       "14    248           Tutorial           279"
      ]
     },
     "metadata": {},
     "output_type": "display_data"
    }
   ],
   "source": [
    "users_grups2 = logs_august.groupby(['ExpId', 'EventName']).agg({'DeviceIDHash':'nunique'}).reset_index()\n",
    "display(users_grups2)"
   ]
  },
  {
   "cell_type": "markdown",
   "metadata": {},
   "source": [
    "#### Usuários que chegam a tela de pagamento:"
   ]
  },
  {
   "cell_type": "code",
   "execution_count": 50,
   "metadata": {},
   "outputs": [],
   "source": [
    "pagamentos = np.array([1200, 1158])\n",
    "usuarios = np.array([2484, 2513])\n",
    "\n",
    "alpha = .05 # nível de significância\n",
    "\n",
    "# proporção de sucesso no primeiro grupo:\n",
    "p1 = pagamentos[0]/usuarios[0]\n",
    "\n",
    "# proporção de sucesso no segundo grupo:\n",
    "p2 = pagamentos[1]/usuarios[1]\n",
    "\n",
    "# proporção de sucesso no conjunto de dados combinado:\n",
    "p_combined = (pagamentos[0] + pagamentos[1]) / (usuarios[0] + usuarios[1])\n",
    "\n",
    "# a diferença entre as proporções dos conjuntos de dados\n",
    "difference = p1 - p2 "
   ]
  },
  {
   "cell_type": "code",
   "execution_count": 51,
   "metadata": {},
   "outputs": [
    {
     "name": "stdout",
     "output_type": "stream",
     "text": [
      "p-value:  0.11456679313141849\n",
      "Falha ao rejeitar a hipótese nula: não há motivo para considerar as proporções diferentes\n"
     ]
    }
   ],
   "source": [
    "# calculando a estatística em desvios padrão da distribuição normal padrão\n",
    "z_value = difference / mth.sqrt(p_combined * (1 - p_combined) * (1/usuarios[0] + 1/usuarios[1]))\n",
    "\n",
    "# configurando a distribuição normal padrão (média 0, desvio padrão 1)\n",
    "distr = st.norm(0, 1) \n",
    "\n",
    "p_value = (1 - distr.cdf(abs(z_value))) * 2\n",
    "\n",
    "print('p-value: ', p_value)\n",
    "\n",
    "if (p_value < alpha):\n",
    "    print(\"Rejeitando a hipótese nula: há uma diferença significativa entre as proporções\")\n",
    "else:\n",
    "    print(\"Falha ao rejeitar a hipótese nula: não há motivo para considerar as proporções diferentes\") "
   ]
  },
  {
   "cell_type": "markdown",
   "metadata": {},
   "source": [
    "#### Usuários que chegam a tela de carrinho:"
   ]
  },
  {
   "cell_type": "code",
   "execution_count": 52,
   "metadata": {},
   "outputs": [],
   "source": [
    "carrinho = np.array([1266, 1238])\n",
    "usuarios = np.array([2484, 2513])\n",
    "\n",
    "alpha = .05 # nível de significância\n",
    "\n",
    "# proporção de sucesso no primeiro grupo:\n",
    "p1c = carrinho[0]/usuarios[0]\n",
    "\n",
    "# proporção de sucesso no segundo grupo:\n",
    "p2c = carrinho[1]/usuarios[1]\n",
    "\n",
    "# proporção de sucesso no conjunto de dados combinado:\n",
    "p_combinedc = (carrinho[0] + carrinho[1]) / (usuarios[0] + usuarios[1])\n",
    "\n",
    "# a diferença entre as proporções dos conjuntos de dados\n",
    "differencec = p1c - p2c "
   ]
  },
  {
   "cell_type": "code",
   "execution_count": 53,
   "metadata": {},
   "outputs": [
    {
     "name": "stdout",
     "output_type": "stream",
     "text": [
      "p-value:  0.22883372237997213\n",
      "Falha ao rejeitar a hipótese nula: não há motivo para considerar as proporções diferentes\n"
     ]
    }
   ],
   "source": [
    "# calculando a estatística em desvios padrão da distribuição normal padrão\n",
    "z_valuec = differencec / mth.sqrt(p_combinedc * (1 - p_combinedc) * (1/usuarios[0] + 1/usuarios[1]))\n",
    "\n",
    "# configurando a distribuição normal padrão (média 0, desvio padrão 1)\n",
    "distrc = st.norm(0, 1) \n",
    "\n",
    "p_valuec = (1 - distrc.cdf(abs(z_valuec))) * 2\n",
    "\n",
    "print('p-value: ', p_valuec)\n",
    "\n",
    "if (p_valuec < alpha):\n",
    "    print(\"Rejeitando a hipótese nula: há uma diferença significativa entre as proporções\")\n",
    "else:\n",
    "    print(\"Falha ao rejeitar a hipótese nula: não há motivo para considerar as proporções diferentes\") "
   ]
  },
  {
   "cell_type": "markdown",
   "metadata": {},
   "source": [
    "#### Usuários que chegam a tela de Tela de Ofertas:"
   ]
  },
  {
   "cell_type": "code",
   "execution_count": 54,
   "metadata": {},
   "outputs": [],
   "source": [
    "ofertas = np.array([1542, 1520])\n",
    "usuarios = np.array([2484, 2513])\n",
    "\n",
    "alpha = .05 # nível de significância\n",
    "\n",
    "# proporção de sucesso no primeiro grupo:\n",
    "p1o = ofertas[0]/usuarios[0]\n",
    "\n",
    "# proporção de sucesso no segundo grupo:\n",
    "p2o = ofertas[1]/usuarios[1]\n",
    "\n",
    "# proporção de sucesso no conjunto de dados combinado:\n",
    "p_combinedo = (ofertas[0] + ofertas[1]) / (usuarios[0] + usuarios[1])\n",
    "\n",
    "# a diferença entre as proporções dos conjuntos de dados\n",
    "differenceo = p1o - p2o "
   ]
  },
  {
   "cell_type": "code",
   "execution_count": 55,
   "metadata": {},
   "outputs": [
    {
     "name": "stdout",
     "output_type": "stream",
     "text": [
      "p-value:  0.2480954578522181\n",
      "Falha ao rejeitar a hipótese nula: não há motivo para considerar as proporções diferentes\n"
     ]
    }
   ],
   "source": [
    "# calculando a estatística em desvios padrão da distribuição normal padrão\n",
    "z_valueo = differenceo / mth.sqrt(p_combinedo * (1 - p_combinedo) * (1/usuarios[0] + 1/usuarios[1]))\n",
    "\n",
    "# configurando a distribuição normal padrão (média 0, desvio padrão 1)\n",
    "distro = st.norm(0, 1) \n",
    "\n",
    "p_valueo = (1 - distro.cdf(abs(z_valueo))) * 2\n",
    "\n",
    "print('p-value: ', p_valueo)\n",
    "\n",
    "if (p_valueo < alpha):\n",
    "    print(\"Rejeitando a hipótese nula: há uma diferença significativa entre as proporções\")\n",
    "else:\n",
    "    print(\"Falha ao rejeitar a hipótese nula: não há motivo para considerar as proporções diferentes\") "
   ]
  },
  {
   "cell_type": "markdown",
   "metadata": {},
   "source": [
    "#### Usuários que chegam a Tela Principal:"
   ]
  },
  {
   "cell_type": "code",
   "execution_count": 56,
   "metadata": {},
   "outputs": [],
   "source": [
    "principal = np.array([2450, 2476])\n",
    "usuarios = np.array([2484, 2513])\n",
    "\n",
    "alphap = .05 # nível de significância\n",
    "\n",
    "# proporção de sucesso no primeiro grupo:\n",
    "p1a = principal[0]/usuarios[0]\n",
    "\n",
    "# proporção de sucesso no segundo grupo:\n",
    "p2a = principal[1]/usuarios[1]\n",
    "\n",
    "# proporção de sucesso no conjunto de dados combinado:\n",
    "p_combineda = (principal[0] + principal[1]) / (usuarios[0] + usuarios[1])\n",
    "\n",
    "# a diferença entre as proporções dos conjuntos de dados\n",
    "differencea = p1a - p2a "
   ]
  },
  {
   "cell_type": "code",
   "execution_count": 57,
   "metadata": {},
   "outputs": [
    {
     "name": "stdout",
     "output_type": "stream",
     "text": [
      "p-value:  0.7570597232046099\n",
      "Falha ao rejeitar a hipótese nula: não há motivo para considerar as proporções diferentes\n"
     ]
    }
   ],
   "source": [
    "# calculando a estatística em desvios padrão da distribuição normal padrão\n",
    "z_valuea= differencea / mth.sqrt(p_combineda * (1 - p_combineda) * (1/usuarios[0] + 1/usuarios[1]))\n",
    "\n",
    "# configurando a distribuição normal padrão (média 0, desvio padrão 1)\n",
    "distra = st.norm(0, 1) \n",
    "\n",
    "p_valuea= (1 - distra.cdf(abs(z_valuea))) * 2\n",
    "\n",
    "print('p-value: ', p_valuea)\n",
    "\n",
    "if (p_valuea < alphap):\n",
    "    print(\"Rejeitando a hipótese nula: há uma diferença significativa entre as proporções\")\n",
    "else:\n",
    "    print(\"Falha ao rejeitar a hipótese nula: não há motivo para considerar as proporções diferentes\") "
   ]
  },
  {
   "cell_type": "markdown",
   "metadata": {},
   "source": [
    "### Amostra com fontes alteradas:"
   ]
  },
  {
   "cell_type": "markdown",
   "metadata": {},
   "source": [
    "<strong>Para todos os testes de hipoteses abaixo considere:</strong>\n",
    "\n",
    "Hipotese alternativa: há uma diferença estatisticamente significativa entre as amostragens.\n",
    "\n",
    "Hipotese nula: não há diferença estatisticamente significativa entre as amostragens."
   ]
  },
  {
   "cell_type": "code",
   "execution_count": 58,
   "metadata": {},
   "outputs": [
    {
     "name": "stdout",
     "output_type": "stream",
     "text": [
      "valor-p para comparar os grupos A e B:  0.9697938310450083\n",
      "valor-p para comparar os grupos B e C:  0.9808472648044346\n",
      "valor-p para comparar os grupos A e C:  0.9895062693431196\n",
      "Hipótese nula não rejeitada para os grupos А e B\n",
      "Hipótese nula não rejeitada para os grupos B e C\n",
      "Hipótese nula não rejeitada para os grupos А e C\n"
     ]
    }
   ],
   "source": [
    "from scipy import stats as st\n",
    "import numpy as np\n",
    "\n",
    "# sample_A = 246\n",
    "# sample_B = 247\n",
    "# sample_C = 248\n",
    "\n",
    "sample_A = [1266,2450,1542,1200]\n",
    "sample_B = [1238,2476,1520,1158]\n",
    "sample_C = [1230,2493,1531,1181]\n",
    "\n",
    "alpha = .05 # nível de significância\n",
    "\n",
    "results_AB = st.ttest_ind(\n",
    "    sample_A, \n",
    "    sample_B)\n",
    "\n",
    "results_BC = st.ttest_ind(\n",
    "    sample_B, \n",
    "    sample_C)\n",
    "\n",
    "results_AC = st.ttest_ind(\n",
    "    sample_A, \n",
    "    sample_C)\n",
    "\n",
    "bonferroni_alpha = alpha / 3  # três comparações feitas\n",
    "\n",
    "print('valor-p para comparar os grupos A e B: ', results_AB.pvalue)\n",
    "print('valor-p para comparar os grupos B e C: ', results_BC.pvalue)\n",
    "print('valor-p para comparar os grupos A e C: ', results_AC.pvalue)\n",
    "\n",
    "if (results_AB.pvalue < bonferroni_alpha):\n",
    "    print(\"Hipótese nula rejeitada para os grupos А e B\")\n",
    "else:\n",
    "    print(\"Hipótese nula não rejeitada para os grupos А e B\")\n",
    "\n",
    "if (results_BC.pvalue < bonferroni_alpha):\n",
    "    print(\"Hipótese nula rejeitada para os grupos B e C\")\n",
    "else:\n",
    "    print(\"Hipótese nula não rejeitada para os grupos B e C\")\n",
    "\n",
    "if (results_AC.pvalue < bonferroni_alpha):\n",
    "    print(\"Hipótese nula rejeitada para os grupos A e C\")\n",
    "else:\n",
    "    print(\"Hipótese nula não rejeitada para os grupos А e C\")"
   ]
  },
  {
   "cell_type": "markdown",
   "metadata": {},
   "source": [
    "###\tQual nível de significância você definiu para testar as hipóteses estatísticas mencionadas acima? \n"
   ]
  },
  {
   "cell_type": "markdown",
   "metadata": {},
   "source": [
    "Escolhi o nível de significância mais comumente utilizado de 0,05 (ou 5%) nos testes entre duas amostras (246 e 247), e um nível de significância de 0,016 no teste de hipoetes entre três amostras. \n",
    "\n",
    "Realizei um total de 5 testes de hipóteses, em em todos os resultados, não podemos rejeitar a hipotese nula.\n",
    "\n",
    "Não alteraria nenhum nível de significância utilizado nos testes acima.\n"
   ]
  },
  {
   "cell_type": "markdown",
   "metadata": {},
   "source": [
    "[Voltar ao topo da página](#top)"
   ]
  },
  {
   "cell_type": "markdown",
   "metadata": {},
   "source": [
    "## <center><strong> Conclusão:"
   ]
  },
  {
   "cell_type": "markdown",
   "metadata": {},
   "source": [
    "Comportamento dos usuários durante o mês de Agosto/2019:\n",
    "\n",
    "Data 01/08/2019 a 07/08/2019:\n",
    "\n",
    "Nós tivemos um total de:\n",
    "* 117.328 acessos a tela principal do aplicativo da empresa.\n",
    "* 46.303 acessos a tela de ofertas.\n",
    "* 42.303 acessos a tela de carrinho de compras.\n",
    "* 33.918 compras.\n",
    "* 1.005 acessos aos tutoriais.\n",
    "\n",
    "Acredito que a tela de tutoriais não faça parte da sequência obrigatória para os usuários efetuarem as compras, pois os acessos a esta página representam menos de 1% dos nossos dados.\n",
    "\n",
    "Os usuários deveriam estar passando pelas seguintes etapas para efetuarem suas compras:\n",
    "* 1ª - Tela Principal;\n",
    "* 2ª - Tela de ofertas;\n",
    "* 3ª - Carrinho de compras;\n",
    "* 4ª - e Tela de Pagamento.\n",
    "\n",
    "Porém se observarmos o funil em que as etapas são levadas em consideração e o funil simples, podemos dizer que nem todos os usuários seguem a rota esperada:\n",
    "\n",
    "Funil simples:\n",
    "* 7.419 usuários únicos acessaram a tela principal da empresa,\n",
    "* 4.593 usuários únicos acessaram a tela de ofertas,\n",
    "* 3.734 usuários únicos acessaram o carrinho de compras,\n",
    "* 3.539 usuários únicos efetuaram uma compra,\n",
    "\n",
    "Funil em que as etapas são levadas em consideração:\n",
    "\n",
    "* 7.419 usuários únicos acessaram a tela principal da empresa,\n",
    "* 4.201 usuários únicos acessaram a tela de ofertas,\n",
    "* 1.767 usuários únicos acessaram o carrinho de compras,\n",
    "* 454 usuários únicos efetuaram uma compra.\n",
    "\n",
    "Testes A/B:\n",
    "\n",
    "Referente ao resultado do teste A/A/B:\n",
    "\n",
    "O grupo de teste que recebeu as fontes novas (Grupo 248) se saiu um pouco melhor no total de acessos a Tela de compras, 1% a mais que o Grupo 246 e 6% a mais que o Grupo 247, porém no que diz respeito ao nº de usuários únicos que efetuaram compras, ficou 1% atrás do grupo 246 e igualou ao 247.\n",
    "\n",
    "Total de acessos a tela de pagamentos:\n",
    "* Grupo 246 – 11.852 acessos – 35%\n",
    "* Grupo 247 – 9.981 acessos – 29%\n",
    "* Grupo 248 – 12.085 acessos – 36%\n",
    "\n",
    "Total de usuários únicos que acessaram a tela de pagamento:\n",
    "* Grupo 246 – 1.200 acessos – 34%\n",
    "* Grupo 247 – 1.158 acessos – 33%\n",
    "* Grupo 348 – 1.181 acessos – 33%\n",
    "\n",
    "Podemos dizer então que não há diferenças estatisticamente significativas entre as amostragens, por isso não podemos rejeitar a hipótese nula.\n"
   ]
  },
  {
   "cell_type": "markdown",
   "metadata": {},
   "source": [
    "[Voltar ao topo da página](#top)"
   ]
  }
 ],
 "metadata": {
  "hide_input": false,
  "kernelspec": {
   "display_name": "Python 3 (ipykernel)",
   "language": "python",
   "name": "python3"
  },
  "language_info": {
   "codemirror_mode": {
    "name": "ipython",
    "version": 3
   },
   "file_extension": ".py",
   "mimetype": "text/x-python",
   "name": "python",
   "nbconvert_exporter": "python",
   "pygments_lexer": "ipython3",
   "version": "3.9.13"
  },
  "toc": {
   "base_numbering": 1,
   "nav_menu": {
    "height": "328.993px",
    "width": "519.983px"
   },
   "number_sections": true,
   "sideBar": false,
   "skip_h1_title": true,
   "title_cell": "Sumário:",
   "title_sidebar": "Sumário:",
   "toc_cell": true,
   "toc_position": {
    "height": "1036px",
    "left": "27px",
    "top": "112.229px",
    "width": "457.625px"
   },
   "toc_section_display": false,
   "toc_window_display": true
  }
 },
 "nbformat": 4,
 "nbformat_minor": 2
}
